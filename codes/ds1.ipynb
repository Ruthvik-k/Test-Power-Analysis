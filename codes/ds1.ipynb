{
  "cells": [
    {
      "cell_type": "markdown",
      "id": "62f54a0e",
      "metadata": {
        "id": "62f54a0e"
      },
      "source": [
        "## IMPORTING LIBRARIES"
      ]
    },
    {
      "cell_type": "code",
      "source": [
        "from google.colab import drive\n",
        "drive.mount('/content/drive')"
      ],
      "metadata": {
        "colab": {
          "base_uri": "https://localhost:8080/"
        },
        "id": "hBfyy4RROZdV",
        "outputId": "cc0b4466-3cbe-488e-df51-81bb79bc0e2f"
      },
      "id": "hBfyy4RROZdV",
      "execution_count": null,
      "outputs": [
        {
          "output_type": "stream",
          "name": "stdout",
          "text": [
            "Drive already mounted at /content/drive; to attempt to forcibly remount, call drive.mount(\"/content/drive\", force_remount=True).\n"
          ]
        }
      ]
    },
    {
      "cell_type": "code",
      "execution_count": null,
      "id": "34aa8a43",
      "metadata": {
        "id": "34aa8a43"
      },
      "outputs": [],
      "source": [
        "import numpy as np\n",
        "import matplotlib.pyplot as plt\n",
        "import pandas as pd\n",
        "import seaborn as sb"
      ]
    },
    {
      "cell_type": "code",
      "execution_count": null,
      "id": "8dfc276d",
      "metadata": {
        "id": "8dfc276d"
      },
      "outputs": [],
      "source": [
        "from sklearn.linear_model import LinearRegression\n",
        "from sklearn.metrics import mean_squared_error as MSE\n",
        "from sklearn.linear_model import Ridge\n",
        "from sklearn.neighbors import KNeighborsRegressor\n",
        "from sklearn.neural_network import MLPRegressor"
      ]
    },
    {
      "cell_type": "markdown",
      "id": "a172d884",
      "metadata": {
        "id": "a172d884"
      },
      "source": [
        "## IMPORTING DATASET"
      ]
    },
    {
      "cell_type": "code",
      "execution_count": null,
      "id": "a513f2f8",
      "metadata": {
        "colab": {
          "base_uri": "https://localhost:8080/",
          "height": 739
        },
        "id": "a513f2f8",
        "outputId": "4684f911-c000-452d-82d8-bfdf65fc09b6"
      },
      "outputs": [
        {
          "output_type": "execute_result",
          "data": {
            "text/plain": [
              "    Number of gates  Number of flops  Number of Test Vectors  \\\n",
              "0                40                4                       3   \n",
              "1               100               10                       5   \n",
              "2               110               10                       5   \n",
              "3               150               16                       6   \n",
              "4               150               15                       7   \n",
              "5               170               17                       7   \n",
              "6               200               19                       7   \n",
              "7               210               20                       8   \n",
              "8               250               26                       8   \n",
              "9               300               29                       8   \n",
              "10               50                5                       4   \n",
              "11               55                5                       5   \n",
              "12               45                4                       4   \n",
              "13              125               10                       8   \n",
              "14              340               30                      10   \n",
              "15              260               20                      10   \n",
              "16              320               28                      12   \n",
              "17              120               10                       4   \n",
              "18              255               20                       5   \n",
              "19              170               10                       3   \n",
              "20              180               15                       4   \n",
              "21              210               18                       5   \n",
              "\n",
              "    Equivalent Area of Block  Test Power\\n(in uJoules)  \n",
              "0                        200                         6  \n",
              "1                        600                        16  \n",
              "2                        660                        12  \n",
              "3                        800                        20  \n",
              "4                        800                        15  \n",
              "5                        850                        34  \n",
              "6                       1000                        23  \n",
              "7                       1050                        33  \n",
              "8                       1260                        43  \n",
              "9                       1450                        45  \n",
              "10                       250                        23  \n",
              "11                       270                        20  \n",
              "12                       220                         5  \n",
              "13                       520                        10  \n",
              "14                      1600                        40  \n",
              "15                      1280                        25  \n",
              "16                      1500                        48  \n",
              "17                       600                        10  \n",
              "18                      1250                        20  \n",
              "19                       850                        18  \n",
              "20                       880                        22  \n",
              "21                      1000                        30  "
            ],
            "text/html": [
              "\n",
              "  <div id=\"df-e7ee62b7-a4b6-4c67-8ad9-89d5d7e8f6be\">\n",
              "    <div class=\"colab-df-container\">\n",
              "      <div>\n",
              "<style scoped>\n",
              "    .dataframe tbody tr th:only-of-type {\n",
              "        vertical-align: middle;\n",
              "    }\n",
              "\n",
              "    .dataframe tbody tr th {\n",
              "        vertical-align: top;\n",
              "    }\n",
              "\n",
              "    .dataframe thead th {\n",
              "        text-align: right;\n",
              "    }\n",
              "</style>\n",
              "<table border=\"1\" class=\"dataframe\">\n",
              "  <thead>\n",
              "    <tr style=\"text-align: right;\">\n",
              "      <th></th>\n",
              "      <th>Number of gates</th>\n",
              "      <th>Number of flops</th>\n",
              "      <th>Number of Test Vectors</th>\n",
              "      <th>Equivalent Area of Block</th>\n",
              "      <th>Test Power\\n(in uJoules)</th>\n",
              "    </tr>\n",
              "  </thead>\n",
              "  <tbody>\n",
              "    <tr>\n",
              "      <th>0</th>\n",
              "      <td>40</td>\n",
              "      <td>4</td>\n",
              "      <td>3</td>\n",
              "      <td>200</td>\n",
              "      <td>6</td>\n",
              "    </tr>\n",
              "    <tr>\n",
              "      <th>1</th>\n",
              "      <td>100</td>\n",
              "      <td>10</td>\n",
              "      <td>5</td>\n",
              "      <td>600</td>\n",
              "      <td>16</td>\n",
              "    </tr>\n",
              "    <tr>\n",
              "      <th>2</th>\n",
              "      <td>110</td>\n",
              "      <td>10</td>\n",
              "      <td>5</td>\n",
              "      <td>660</td>\n",
              "      <td>12</td>\n",
              "    </tr>\n",
              "    <tr>\n",
              "      <th>3</th>\n",
              "      <td>150</td>\n",
              "      <td>16</td>\n",
              "      <td>6</td>\n",
              "      <td>800</td>\n",
              "      <td>20</td>\n",
              "    </tr>\n",
              "    <tr>\n",
              "      <th>4</th>\n",
              "      <td>150</td>\n",
              "      <td>15</td>\n",
              "      <td>7</td>\n",
              "      <td>800</td>\n",
              "      <td>15</td>\n",
              "    </tr>\n",
              "    <tr>\n",
              "      <th>5</th>\n",
              "      <td>170</td>\n",
              "      <td>17</td>\n",
              "      <td>7</td>\n",
              "      <td>850</td>\n",
              "      <td>34</td>\n",
              "    </tr>\n",
              "    <tr>\n",
              "      <th>6</th>\n",
              "      <td>200</td>\n",
              "      <td>19</td>\n",
              "      <td>7</td>\n",
              "      <td>1000</td>\n",
              "      <td>23</td>\n",
              "    </tr>\n",
              "    <tr>\n",
              "      <th>7</th>\n",
              "      <td>210</td>\n",
              "      <td>20</td>\n",
              "      <td>8</td>\n",
              "      <td>1050</td>\n",
              "      <td>33</td>\n",
              "    </tr>\n",
              "    <tr>\n",
              "      <th>8</th>\n",
              "      <td>250</td>\n",
              "      <td>26</td>\n",
              "      <td>8</td>\n",
              "      <td>1260</td>\n",
              "      <td>43</td>\n",
              "    </tr>\n",
              "    <tr>\n",
              "      <th>9</th>\n",
              "      <td>300</td>\n",
              "      <td>29</td>\n",
              "      <td>8</td>\n",
              "      <td>1450</td>\n",
              "      <td>45</td>\n",
              "    </tr>\n",
              "    <tr>\n",
              "      <th>10</th>\n",
              "      <td>50</td>\n",
              "      <td>5</td>\n",
              "      <td>4</td>\n",
              "      <td>250</td>\n",
              "      <td>23</td>\n",
              "    </tr>\n",
              "    <tr>\n",
              "      <th>11</th>\n",
              "      <td>55</td>\n",
              "      <td>5</td>\n",
              "      <td>5</td>\n",
              "      <td>270</td>\n",
              "      <td>20</td>\n",
              "    </tr>\n",
              "    <tr>\n",
              "      <th>12</th>\n",
              "      <td>45</td>\n",
              "      <td>4</td>\n",
              "      <td>4</td>\n",
              "      <td>220</td>\n",
              "      <td>5</td>\n",
              "    </tr>\n",
              "    <tr>\n",
              "      <th>13</th>\n",
              "      <td>125</td>\n",
              "      <td>10</td>\n",
              "      <td>8</td>\n",
              "      <td>520</td>\n",
              "      <td>10</td>\n",
              "    </tr>\n",
              "    <tr>\n",
              "      <th>14</th>\n",
              "      <td>340</td>\n",
              "      <td>30</td>\n",
              "      <td>10</td>\n",
              "      <td>1600</td>\n",
              "      <td>40</td>\n",
              "    </tr>\n",
              "    <tr>\n",
              "      <th>15</th>\n",
              "      <td>260</td>\n",
              "      <td>20</td>\n",
              "      <td>10</td>\n",
              "      <td>1280</td>\n",
              "      <td>25</td>\n",
              "    </tr>\n",
              "    <tr>\n",
              "      <th>16</th>\n",
              "      <td>320</td>\n",
              "      <td>28</td>\n",
              "      <td>12</td>\n",
              "      <td>1500</td>\n",
              "      <td>48</td>\n",
              "    </tr>\n",
              "    <tr>\n",
              "      <th>17</th>\n",
              "      <td>120</td>\n",
              "      <td>10</td>\n",
              "      <td>4</td>\n",
              "      <td>600</td>\n",
              "      <td>10</td>\n",
              "    </tr>\n",
              "    <tr>\n",
              "      <th>18</th>\n",
              "      <td>255</td>\n",
              "      <td>20</td>\n",
              "      <td>5</td>\n",
              "      <td>1250</td>\n",
              "      <td>20</td>\n",
              "    </tr>\n",
              "    <tr>\n",
              "      <th>19</th>\n",
              "      <td>170</td>\n",
              "      <td>10</td>\n",
              "      <td>3</td>\n",
              "      <td>850</td>\n",
              "      <td>18</td>\n",
              "    </tr>\n",
              "    <tr>\n",
              "      <th>20</th>\n",
              "      <td>180</td>\n",
              "      <td>15</td>\n",
              "      <td>4</td>\n",
              "      <td>880</td>\n",
              "      <td>22</td>\n",
              "    </tr>\n",
              "    <tr>\n",
              "      <th>21</th>\n",
              "      <td>210</td>\n",
              "      <td>18</td>\n",
              "      <td>5</td>\n",
              "      <td>1000</td>\n",
              "      <td>30</td>\n",
              "    </tr>\n",
              "  </tbody>\n",
              "</table>\n",
              "</div>\n",
              "      <button class=\"colab-df-convert\" onclick=\"convertToInteractive('df-e7ee62b7-a4b6-4c67-8ad9-89d5d7e8f6be')\"\n",
              "              title=\"Convert this dataframe to an interactive table.\"\n",
              "              style=\"display:none;\">\n",
              "        \n",
              "  <svg xmlns=\"http://www.w3.org/2000/svg\" height=\"24px\"viewBox=\"0 0 24 24\"\n",
              "       width=\"24px\">\n",
              "    <path d=\"M0 0h24v24H0V0z\" fill=\"none\"/>\n",
              "    <path d=\"M18.56 5.44l.94 2.06.94-2.06 2.06-.94-2.06-.94-.94-2.06-.94 2.06-2.06.94zm-11 1L8.5 8.5l.94-2.06 2.06-.94-2.06-.94L8.5 2.5l-.94 2.06-2.06.94zm10 10l.94 2.06.94-2.06 2.06-.94-2.06-.94-.94-2.06-.94 2.06-2.06.94z\"/><path d=\"M17.41 7.96l-1.37-1.37c-.4-.4-.92-.59-1.43-.59-.52 0-1.04.2-1.43.59L10.3 9.45l-7.72 7.72c-.78.78-.78 2.05 0 2.83L4 21.41c.39.39.9.59 1.41.59.51 0 1.02-.2 1.41-.59l7.78-7.78 2.81-2.81c.8-.78.8-2.07 0-2.86zM5.41 20L4 18.59l7.72-7.72 1.47 1.35L5.41 20z\"/>\n",
              "  </svg>\n",
              "      </button>\n",
              "      \n",
              "  <style>\n",
              "    .colab-df-container {\n",
              "      display:flex;\n",
              "      flex-wrap:wrap;\n",
              "      gap: 12px;\n",
              "    }\n",
              "\n",
              "    .colab-df-convert {\n",
              "      background-color: #E8F0FE;\n",
              "      border: none;\n",
              "      border-radius: 50%;\n",
              "      cursor: pointer;\n",
              "      display: none;\n",
              "      fill: #1967D2;\n",
              "      height: 32px;\n",
              "      padding: 0 0 0 0;\n",
              "      width: 32px;\n",
              "    }\n",
              "\n",
              "    .colab-df-convert:hover {\n",
              "      background-color: #E2EBFA;\n",
              "      box-shadow: 0px 1px 2px rgba(60, 64, 67, 0.3), 0px 1px 3px 1px rgba(60, 64, 67, 0.15);\n",
              "      fill: #174EA6;\n",
              "    }\n",
              "\n",
              "    [theme=dark] .colab-df-convert {\n",
              "      background-color: #3B4455;\n",
              "      fill: #D2E3FC;\n",
              "    }\n",
              "\n",
              "    [theme=dark] .colab-df-convert:hover {\n",
              "      background-color: #434B5C;\n",
              "      box-shadow: 0px 1px 3px 1px rgba(0, 0, 0, 0.15);\n",
              "      filter: drop-shadow(0px 1px 2px rgba(0, 0, 0, 0.3));\n",
              "      fill: #FFFFFF;\n",
              "    }\n",
              "  </style>\n",
              "\n",
              "      <script>\n",
              "        const buttonEl =\n",
              "          document.querySelector('#df-e7ee62b7-a4b6-4c67-8ad9-89d5d7e8f6be button.colab-df-convert');\n",
              "        buttonEl.style.display =\n",
              "          google.colab.kernel.accessAllowed ? 'block' : 'none';\n",
              "\n",
              "        async function convertToInteractive(key) {\n",
              "          const element = document.querySelector('#df-e7ee62b7-a4b6-4c67-8ad9-89d5d7e8f6be');\n",
              "          const dataTable =\n",
              "            await google.colab.kernel.invokeFunction('convertToInteractive',\n",
              "                                                     [key], {});\n",
              "          if (!dataTable) return;\n",
              "\n",
              "          const docLinkHtml = 'Like what you see? Visit the ' +\n",
              "            '<a target=\"_blank\" href=https://colab.research.google.com/notebooks/data_table.ipynb>data table notebook</a>'\n",
              "            + ' to learn more about interactive tables.';\n",
              "          element.innerHTML = '';\n",
              "          dataTable['output_type'] = 'display_data';\n",
              "          await google.colab.output.renderOutput(dataTable, element);\n",
              "          const docLink = document.createElement('div');\n",
              "          docLink.innerHTML = docLinkHtml;\n",
              "          element.appendChild(docLink);\n",
              "        }\n",
              "      </script>\n",
              "    </div>\n",
              "  </div>\n",
              "  "
            ]
          },
          "metadata": {},
          "execution_count": 35
        }
      ],
      "source": [
        "dataset = pd.read_csv('/content/drive/MyDrive/Design Credits/rough_data_set.csv')\n",
        "dataset"
      ]
    },
    {
      "cell_type": "code",
      "execution_count": null,
      "id": "2117adb2",
      "metadata": {
        "id": "2117adb2"
      },
      "outputs": [],
      "source": [
        "x = dataset.iloc[:, :-1].values\n",
        "y = dataset.iloc[:, -1].values"
      ]
    },
    {
      "cell_type": "code",
      "source": [
        "sb.heatmap(dataset.corr(), cmap=\"YlGnBu\", annot=True)"
      ],
      "metadata": {
        "colab": {
          "base_uri": "https://localhost:8080/",
          "height": 398
        },
        "id": "h63210-9T1oF",
        "outputId": "b58e851d-0a42-43fc-aa20-b22d1e66397d"
      },
      "id": "h63210-9T1oF",
      "execution_count": null,
      "outputs": [
        {
          "output_type": "execute_result",
          "data": {
            "text/plain": [
              "<matplotlib.axes._subplots.AxesSubplot at 0x7f2b818cd610>"
            ]
          },
          "metadata": {},
          "execution_count": 54
        },
        {
          "output_type": "display_data",
          "data": {
            "text/plain": [
              "<Figure size 432x288 with 2 Axes>"
            ],
            "image/png": "[encoded data removed]"
          },
          "metadata": {
            "needs_background": "light"
          }
        }
      ]
    },
    {
      "cell_type": "markdown",
      "id": "fec85dcc",
      "metadata": {
        "id": "fec85dcc"
      },
      "source": [
        "## Splitting into training and testing sets"
      ]
    },
    {
      "cell_type": "code",
      "execution_count": null,
      "id": "c8cf987a",
      "metadata": {
        "id": "c8cf987a"
      },
      "outputs": [],
      "source": [
        "from sklearn.model_selection import train_test_split\n",
        "x_train, x_test, y_train, y_test = train_test_split(x, y, test_size = 0.2, random_state=1)"
      ]
    },
    {
      "cell_type": "code",
      "source": [
        "MSE_list = dict()"
      ],
      "metadata": {
        "id": "-7Ms6zFxPcDZ"
      },
      "id": "-7Ms6zFxPcDZ",
      "execution_count": null,
      "outputs": []
    },
    {
      "cell_type": "markdown",
      "id": "6e816908",
      "metadata": {
        "id": "6e816908"
      },
      "source": [
        "## least square regression"
      ]
    },
    {
      "cell_type": "code",
      "execution_count": null,
      "id": "36eebff2",
      "metadata": {
        "id": "36eebff2"
      },
      "outputs": [],
      "source": [
        "reg = LinearRegression()\n",
        "reg.fit(x_train,y_train)\n",
        "y_pred = reg.predict(x_test)\n",
        "MSE_list[\"linear regression\"] = MSE(y_pred,y_test)"
      ]
    },
    {
      "cell_type": "code",
      "execution_count": null,
      "id": "2e921fa4",
      "metadata": {
        "colab": {
          "base_uri": "https://localhost:8080/"
        },
        "id": "2e921fa4",
        "outputId": "bee13e55-3865-4283-c294-6a0dd878fa7f"
      },
      "outputs": [
        {
          "output_type": "stream",
          "name": "stdout",
          "text": [
            "89.01358763476526\n"
          ]
        }
      ],
      "source": [
        "print(MSE(y_pred,y_test))"
      ]
    },
    {
      "cell_type": "code",
      "execution_count": null,
      "id": "00e6faee",
      "metadata": {
        "colab": {
          "base_uri": "https://localhost:8080/"
        },
        "id": "00e6faee",
        "outputId": "ab0abbff-47ee-45fb-aba5-5ef550ffb4a5"
      },
      "outputs": [
        {
          "output_type": "stream",
          "name": "stdout",
          "text": [
            "range(0, 5)\n"
          ]
        }
      ],
      "source": [
        "print(range(len(y_test)))"
      ]
    },
    {
      "cell_type": "code",
      "execution_count": null,
      "id": "4d6c5e94",
      "metadata": {
        "colab": {
          "base_uri": "https://localhost:8080/",
          "height": 281
        },
        "id": "4d6c5e94",
        "outputId": "29b27beb-b3d3-4217-c27f-dc78c43f8efa"
      },
      "outputs": [
        {
          "output_type": "display_data",
          "data": {
            "text/plain": [
              "<Figure size 432x288 with 1 Axes>"
            ],
            "image/png": "[encoded data removed]"
          },
          "metadata": {
            "needs_background": "light"
          }
        }
      ],
      "source": [
        "plt.scatter(range(len(y_test)),y_test,color = 'red')\n",
        "plt.scatter(range(len(y_pred)),y_pred,color = 'blue')\n",
        "plt.title(\"test and prediction\")\n",
        "plt.show()"
      ]
    },
    {
      "cell_type": "markdown",
      "id": "098922f7",
      "metadata": {
        "id": "098922f7"
      },
      "source": [
        "## Ridge regression"
      ]
    },
    {
      "cell_type": "code",
      "execution_count": null,
      "id": "4dbc1811",
      "metadata": {
        "id": "4dbc1811"
      },
      "outputs": [],
      "source": [
        "reg_ridge = Ridge()\n",
        "reg_ridge.fit(x_train,y_train)\n",
        "y_pred_ridge = reg_ridge.predict(x_test)\n",
        "MSE_list[\"ridge regression\"] = MSE(y_pred_ridge,y_test)"
      ]
    },
    {
      "cell_type": "code",
      "execution_count": null,
      "id": "32a58250",
      "metadata": {
        "colab": {
          "base_uri": "https://localhost:8080/"
        },
        "id": "32a58250",
        "outputId": "f350c8c5-f83f-431e-e216-b16a4cf34bd4"
      },
      "outputs": [
        {
          "output_type": "stream",
          "name": "stdout",
          "text": [
            "85.23826408485105\n"
          ]
        }
      ],
      "source": [
        "print(MSE(y_pred_ridge,y_test))"
      ]
    },
    {
      "cell_type": "code",
      "execution_count": null,
      "id": "1788cff5",
      "metadata": {
        "colab": {
          "base_uri": "https://localhost:8080/",
          "height": 281
        },
        "id": "1788cff5",
        "outputId": "3d74977c-5dbe-42ad-c7c9-7580b0535dc4"
      },
      "outputs": [
        {
          "output_type": "display_data",
          "data": {
            "text/plain": [
              "<Figure size 432x288 with 1 Axes>"
            ],
            "image/png": "[encoded data removed]"
          },
          "metadata": {
            "needs_background": "light"
          }
        }
      ],
      "source": [
        "plt.scatter(range(len(y_test)),y_test,color = 'red')\n",
        "plt.scatter(range(len(y_pred_ridge)),y_pred_ridge,color = 'blue')\n",
        "plt.title(\"test and prediction\")\n",
        "plt.show()"
      ]
    },
    {
      "cell_type": "markdown",
      "id": "a30cbff7",
      "metadata": {
        "id": "a30cbff7"
      },
      "source": [
        "## Nearest neighbour regression"
      ]
    },
    {
      "cell_type": "code",
      "execution_count": null,
      "id": "14a60049",
      "metadata": {
        "id": "14a60049"
      },
      "outputs": [],
      "source": [
        "neigh = KNeighborsRegressor(n_neighbors=3)\n",
        "neigh.fit(x_train,y_train)\n",
        "y_pred_knn = neigh.predict(x_test)\n",
        "MSE_list[\"KNN\"] = MSE(y_pred_knn,y_test)"
      ]
    },
    {
      "cell_type": "code",
      "execution_count": null,
      "id": "86381f46",
      "metadata": {
        "colab": {
          "base_uri": "https://localhost:8080/"
        },
        "id": "86381f46",
        "outputId": "eb0466fe-1a85-476c-af51-f1e9189e91d5"
      },
      "outputs": [
        {
          "output_type": "stream",
          "name": "stdout",
          "text": [
            "73.57777777777778\n"
          ]
        }
      ],
      "source": [
        "print(MSE(y_pred_knn,y_test))"
      ]
    },
    {
      "cell_type": "code",
      "execution_count": null,
      "id": "9b34ea7b",
      "metadata": {
        "colab": {
          "base_uri": "https://localhost:8080/",
          "height": 281
        },
        "id": "9b34ea7b",
        "outputId": "6fb6591b-070e-4f80-9878-f62e7d70270f"
      },
      "outputs": [
        {
          "output_type": "display_data",
          "data": {
            "text/plain": [
              "<Figure size 432x288 with 1 Axes>"
            ],
            "image/png": "[encoded data removed]"
          },
          "metadata": {
            "needs_background": "light"
          }
        }
      ],
      "source": [
        "plt.scatter(range(len(y_test)),y_test,color = 'red')\n",
        "plt.scatter(range(len(y_pred_knn)),y_pred_knn,color = 'blue')\n",
        "plt.title(\"test and prediction\")\n",
        "plt.show()"
      ]
    },
    {
      "cell_type": "markdown",
      "id": "3661b95d",
      "metadata": {
        "id": "3661b95d"
      },
      "source": [
        "## Neural network regression "
      ]
    },
    {
      "cell_type": "code",
      "execution_count": null,
      "id": "6bc081b8",
      "metadata": {
        "id": "6bc081b8"
      },
      "outputs": [],
      "source": [
        "reg_nnr = MLPRegressor(random_state=1,max_iter=2000)\n",
        "reg_nnr.fit(x_train,y_train)\n",
        "y_predict_nnr = reg_nnr.predict(x_test)\n",
        "MSE_list[\"neural network regression\"] = MSE(y_predict_nnr,y_test)"
      ]
    },
    {
      "cell_type": "code",
      "execution_count": null,
      "id": "d1541ff5",
      "metadata": {
        "colab": {
          "base_uri": "https://localhost:8080/"
        },
        "id": "d1541ff5",
        "outputId": "cbe35077-0508-45e2-a1fd-cb1dece73fcd"
      },
      "outputs": [
        {
          "output_type": "stream",
          "name": "stdout",
          "text": [
            "60.92217970360518\n"
          ]
        }
      ],
      "source": [
        "print(MSE(y_predict_nnr,y_test))"
      ]
    },
    {
      "cell_type": "code",
      "execution_count": null,
      "id": "d8819970",
      "metadata": {
        "colab": {
          "base_uri": "https://localhost:8080/",
          "height": 281
        },
        "id": "d8819970",
        "outputId": "0c7fba45-e6d3-4d50-f140-2b844439fa7c"
      },
      "outputs": [
        {
          "output_type": "display_data",
          "data": {
            "text/plain": [
              "<Figure size 432x288 with 1 Axes>"
            ],
            "image/png": "[encoded data removed]"
          },
          "metadata": {
            "needs_background": "light"
          }
        }
      ],
      "source": [
        "plt.scatter(range(len(y_test)),y_test,color = 'red')\n",
        "plt.scatter(range(len(y_predict_nnr)),y_predict_nnr,color = 'blue')\n",
        "plt.title(\"test and prediction\")\n",
        "plt.show()"
      ]
    },
    {
      "cell_type": "code",
      "execution_count": null,
      "id": "47fdbf5d",
      "metadata": {
        "colab": {
          "base_uri": "https://localhost:8080/",
          "height": 174
        },
        "id": "47fdbf5d",
        "outputId": "2a1a76f6-ccdf-4c05-eed9-b71c20c94eeb"
      },
      "outputs": [
        {
          "output_type": "execute_result",
          "data": {
            "text/plain": [
              "                      Models        MSE\n",
              "0          linear regression  89.013588\n",
              "1           ridge regression  85.238264\n",
              "2                        KNN  73.577778\n",
              "3  neural network regression  60.922180"
            ],
            "text/html": [
              "\n",
              "  <div id=\"df-ca064d69-6f97-4840-b19e-4d7a8046b085\">\n",
              "    <div class=\"colab-df-container\">\n",
              "      <div>\n",
              "<style scoped>\n",
              "    .dataframe tbody tr th:only-of-type {\n",
              "        vertical-align: middle;\n",
              "    }\n",
              "\n",
              "    .dataframe tbody tr th {\n",
              "        vertical-align: top;\n",
              "    }\n",
              "\n",
              "    .dataframe thead th {\n",
              "        text-align: right;\n",
              "    }\n",
              "</style>\n",
              "<table border=\"1\" class=\"dataframe\">\n",
              "  <thead>\n",
              "    <tr style=\"text-align: right;\">\n",
              "      <th></th>\n",
              "      <th>Models</th>\n",
              "      <th>MSE</th>\n",
              "    </tr>\n",
              "  </thead>\n",
              "  <tbody>\n",
              "    <tr>\n",
              "      <th>0</th>\n",
              "      <td>linear regression</td>\n",
              "      <td>89.013588</td>\n",
              "    </tr>\n",
              "    <tr>\n",
              "      <th>1</th>\n",
              "      <td>ridge regression</td>\n",
              "      <td>85.238264</td>\n",
              "    </tr>\n",
              "    <tr>\n",
              "      <th>2</th>\n",
              "      <td>KNN</td>\n",
              "      <td>73.577778</td>\n",
              "    </tr>\n",
              "    <tr>\n",
              "      <th>3</th>\n",
              "      <td>neural network regression</td>\n",
              "      <td>60.922180</td>\n",
              "    </tr>\n",
              "  </tbody>\n",
              "</table>\n",
              "</div>\n",
              "      <button class=\"colab-df-convert\" onclick=\"convertToInteractive('df-ca064d69-6f97-4840-b19e-4d7a8046b085')\"\n",
              "              title=\"Convert this dataframe to an interactive table.\"\n",
              "              style=\"display:none;\">\n",
              "        \n",
              "  <svg xmlns=\"http://www.w3.org/2000/svg\" height=\"24px\"viewBox=\"0 0 24 24\"\n",
              "       width=\"24px\">\n",
              "    <path d=\"M0 0h24v24H0V0z\" fill=\"none\"/>\n",
              "    <path d=\"M18.56 5.44l.94 2.06.94-2.06 2.06-.94-2.06-.94-.94-2.06-.94 2.06-2.06.94zm-11 1L8.5 8.5l.94-2.06 2.06-.94-2.06-.94L8.5 2.5l-.94 2.06-2.06.94zm10 10l.94 2.06.94-2.06 2.06-.94-2.06-.94-.94-2.06-.94 2.06-2.06.94z\"/><path d=\"M17.41 7.96l-1.37-1.37c-.4-.4-.92-.59-1.43-.59-.52 0-1.04.2-1.43.59L10.3 9.45l-7.72 7.72c-.78.78-.78 2.05 0 2.83L4 21.41c.39.39.9.59 1.41.59.51 0 1.02-.2 1.41-.59l7.78-7.78 2.81-2.81c.8-.78.8-2.07 0-2.86zM5.41 20L4 18.59l7.72-7.72 1.47 1.35L5.41 20z\"/>\n",
              "  </svg>\n",
              "      </button>\n",
              "      \n",
              "  <style>\n",
              "    .colab-df-container {\n",
              "      display:flex;\n",
              "      flex-wrap:wrap;\n",
              "      gap: 12px;\n",
              "    }\n",
              "\n",
              "    .colab-df-convert {\n",
              "      background-color: #E8F0FE;\n",
              "      border: none;\n",
              "      border-radius: 50%;\n",
              "      cursor: pointer;\n",
              "      display: none;\n",
              "      fill: #1967D2;\n",
              "      height: 32px;\n",
              "      padding: 0 0 0 0;\n",
              "      width: 32px;\n",
              "    }\n",
              "\n",
              "    .colab-df-convert:hover {\n",
              "      background-color: #E2EBFA;\n",
              "      box-shadow: 0px 1px 2px rgba(60, 64, 67, 0.3), 0px 1px 3px 1px rgba(60, 64, 67, 0.15);\n",
              "      fill: #174EA6;\n",
              "    }\n",
              "\n",
              "    [theme=dark] .colab-df-convert {\n",
              "      background-color: #3B4455;\n",
              "      fill: #D2E3FC;\n",
              "    }\n",
              "\n",
              "    [theme=dark] .colab-df-convert:hover {\n",
              "      background-color: #434B5C;\n",
              "      box-shadow: 0px 1px 3px 1px rgba(0, 0, 0, 0.15);\n",
              "      filter: drop-shadow(0px 1px 2px rgba(0, 0, 0, 0.3));\n",
              "      fill: #FFFFFF;\n",
              "    }\n",
              "  </style>\n",
              "\n",
              "      <script>\n",
              "        const buttonEl =\n",
              "          document.querySelector('#df-ca064d69-6f97-4840-b19e-4d7a8046b085 button.colab-df-convert');\n",
              "        buttonEl.style.display =\n",
              "          google.colab.kernel.accessAllowed ? 'block' : 'none';\n",
              "\n",
              "        async function convertToInteractive(key) {\n",
              "          const element = document.querySelector('#df-ca064d69-6f97-4840-b19e-4d7a8046b085');\n",
              "          const dataTable =\n",
              "            await google.colab.kernel.invokeFunction('convertToInteractive',\n",
              "                                                     [key], {});\n",
              "          if (!dataTable) return;\n",
              "\n",
              "          const docLinkHtml = 'Like what you see? Visit the ' +\n",
              "            '<a target=\"_blank\" href=https://colab.research.google.com/notebooks/data_table.ipynb>data table notebook</a>'\n",
              "            + ' to learn more about interactive tables.';\n",
              "          element.innerHTML = '';\n",
              "          dataTable['output_type'] = 'display_data';\n",
              "          await google.colab.output.renderOutput(dataTable, element);\n",
              "          const docLink = document.createElement('div');\n",
              "          docLink.innerHTML = docLinkHtml;\n",
              "          element.appendChild(docLink);\n",
              "        }\n",
              "      </script>\n",
              "    </div>\n",
              "  </div>\n",
              "  "
            ]
          },
          "metadata": {},
          "execution_count": 52
        }
      ],
      "source": [
        "# printing all mse values with models\n",
        "mse = pd.DataFrame({\"Models\" : MSE_list.keys() , \"MSE\" : MSE_list.values()})\n",
        "mse"
      ]
    },
    {
      "cell_type": "code",
      "execution_count": null,
      "id": "5bd56b50",
      "metadata": {
        "id": "5bd56b50"
      },
      "outputs": [],
      "source": [
        ""
      ]
    },
    {
      "cell_type": "code",
      "execution_count": null,
      "id": "45b6af3c",
      "metadata": {
        "id": "45b6af3c"
      },
      "outputs": [],
      "source": [
        ""
      ]
    }
  ],
  "metadata": {
    "kernelspec": {
      "display_name": "Python 3 (ipykernel)",
      "language": "python",
      "name": "python3"
    },
    "language_info": {
      "codemirror_mode": {
        "name": "ipython",
        "version": 3
      },
      "file_extension": ".py",
      "mimetype": "text/x-python",
      "name": "python",
      "nbconvert_exporter": "python",
      "pygments_lexer": "ipython3",
      "version": "3.9.7"
    },
    "colab": {
      "name": "ds1.ipynb",
      "provenance": []
    }
  },
  "nbformat": 4,
  "nbformat_minor": 5
}