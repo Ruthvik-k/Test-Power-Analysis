{
  "nbformat": 4,
  "nbformat_minor": 0,
  "metadata": {
    "colab": {
      "name": "DC3.ipynb",
      "provenance": [],
      "collapsed_sections": []
    },
    "kernelspec": {
      "name": "python3",
      "display_name": "Python 3"
    },
    "language_info": {
      "name": "python"
    }
  },
  "cells": [
    {
      "cell_type": "markdown",
      "source": [
        "## Importing libraries"
      ],
      "metadata": {
        "id": "htasTIdslrkk"
      }
    },
    {
      "cell_type": "code",
      "execution_count": null,
      "metadata": {
        "id": "kMQQlCzcldNY"
      },
      "outputs": [],
      "source": [
        "import numpy as numpy\n",
        "import pandas as pd\n",
        "import matplotlib.pyplot as plt\n",
        "from sklearn.model_selection import train_test_split\n",
        "import warnings\n",
        "warnings.filterwarnings('ignore')\n",
        "\n",
        "# models \n",
        "from sklearn.linear_model import LogisticRegression\n",
        "from sklearn.linear_model import Ridge\n",
        "from sklearn.neighbors import KNeighborsRegressor\n",
        "from sklearn.neural_network import MLPRegressor\n",
        "from sklearn.ensemble import RandomForestRegressor\n",
        "from sklearn.tree import DecisionTreeRegressor\n",
        "from sklearn.ensemble import RandomForestRegressor\n",
        "\n",
        "from sklearn.metrics import mean_squared_error as MSE\n"
      ]
    },
    {
      "cell_type": "code",
      "source": [
        "import math\n",
        "import pandas as pd\n",
        "import tensorflow as tf\n",
        "import matplotlib.pyplot as plt\n",
        "from tensorflow.keras import Model\n",
        "from tensorflow.keras import Sequential\n",
        "from tensorflow.keras.optimizers import Adam\n",
        "from sklearn.preprocessing import StandardScaler\n",
        "from tensorflow.keras.layers import Dense, Dropout\n",
        "from sklearn.model_selection import train_test_split\n",
        "from tensorflow.keras.losses import MeanSquaredLogarithmicError"
      ],
      "metadata": {
        "id": "h8xURKyOXBhH"
      },
      "execution_count": null,
      "outputs": []
    },
    {
      "cell_type": "markdown",
      "source": [
        "## Importing dataset"
      ],
      "metadata": {
        "id": "NlF4S_lil2M0"
      }
    },
    {
      "cell_type": "code",
      "source": [
        "dataset = pd.read_csv(\"/content/DESIGN_CREDIT_DATASET2.txt\",delim_whitespace=\" \")\n",
        "dataset.drop(columns=['Test','Power'],axis=1)\n",
        "dataset=dataset.drop(dataset.columns[[3,4]],axis=1)\n",
        "dataset\n",
        "dataset.rename(columns = {'Total':'Total Gates', 'Gates':'Test Power'}, inplace = True)"
      ],
      "metadata": {
        "id": "d1QUmaONl1pD"
      },
      "execution_count": null,
      "outputs": []
    },
    {
      "cell_type": "code",
      "source": [
        "# dropping last row\n",
        "dataset = dataset.loc[dataset['VECTOR']!='225']"
      ],
      "metadata": {
        "id": "cfr6kWCRnTIO"
      },
      "execution_count": null,
      "outputs": []
    },
    {
      "cell_type": "code",
      "source": [
        "len(dataset['VECTOR'][0])"
      ],
      "metadata": {
        "colab": {
          "base_uri": "https://localhost:8080/"
        },
        "id": "dsSTTBDOmFHJ",
        "outputId": "63430ba2-bcb7-4d76-8b7e-a99ed840ab06"
      },
      "execution_count": null,
      "outputs": [
        {
          "output_type": "execute_result",
          "data": {
            "text/plain": [
              "50"
            ]
          },
          "metadata": {},
          "execution_count": 5
        }
      ]
    },
    {
      "cell_type": "code",
      "source": [
        "dataset"
      ],
      "metadata": {
        "colab": {
          "base_uri": "https://localhost:8080/",
          "height": 423
        },
        "id": "so2M1A7ZmGck",
        "outputId": "61c77b82-7bc3-4586-efba-8a40c6dc201a"
      },
      "execution_count": null,
      "outputs": [
        {
          "output_type": "execute_result",
          "data": {
            "text/plain": [
              "                                                VECTOR  Total Gates  \\\n",
              "0    0101011111111111111111111111111111111111111111...        447.0   \n",
              "1    1101010111111111111111111111111111111111111111...        439.0   \n",
              "2    1111010101111111111111111111111111111111111111...        426.0   \n",
              "3    1111110101011111111111111111111111111111111111...        534.0   \n",
              "4    1111111101010111111111111111111111111111111111...        458.0   \n",
              "..                                                 ...          ...   \n",
              "220  1111110101010101010101010101010101010101111111...        451.0   \n",
              "221  1111111101010101010101010101010101010101011111...        454.0   \n",
              "222  1111111111010101010101010101010101010101010111...        452.0   \n",
              "223  1111111111110101010101010101010101010101010101...        513.0   \n",
              "224  1111111111111101010101010101010101010101010101...        450.0   \n",
              "\n",
              "     Test Power  \n",
              "0          21.0  \n",
              "1          23.0  \n",
              "2          23.0  \n",
              "3          22.0  \n",
              "4          23.0  \n",
              "..          ...  \n",
              "220       114.0  \n",
              "221       114.0  \n",
              "222       116.0  \n",
              "223       115.0  \n",
              "224       116.0  \n",
              "\n",
              "[225 rows x 3 columns]"
            ],
            "text/html": [
              "\n",
              "  <div id=\"df-2dad471d-e0d2-4e8f-b19c-df6dd4dac331\">\n",
              "    <div class=\"colab-df-container\">\n",
              "      <div>\n",
              "<style scoped>\n",
              "    .dataframe tbody tr th:only-of-type {\n",
              "        vertical-align: middle;\n",
              "    }\n",
              "\n",
              "    .dataframe tbody tr th {\n",
              "        vertical-align: top;\n",
              "    }\n",
              "\n",
              "    .dataframe thead th {\n",
              "        text-align: right;\n",
              "    }\n",
              "</style>\n",
              "<table border=\"1\" class=\"dataframe\">\n",
              "  <thead>\n",
              "    <tr style=\"text-align: right;\">\n",
              "      <th></th>\n",
              "      <th>VECTOR</th>\n",
              "      <th>Total Gates</th>\n",
              "      <th>Test Power</th>\n",
              "    </tr>\n",
              "  </thead>\n",
              "  <tbody>\n",
              "    <tr>\n",
              "      <th>0</th>\n",
              "      <td>0101011111111111111111111111111111111111111111...</td>\n",
              "      <td>447.0</td>\n",
              "      <td>21.0</td>\n",
              "    </tr>\n",
              "    <tr>\n",
              "      <th>1</th>\n",
              "      <td>1101010111111111111111111111111111111111111111...</td>\n",
              "      <td>439.0</td>\n",
              "      <td>23.0</td>\n",
              "    </tr>\n",
              "    <tr>\n",
              "      <th>2</th>\n",
              "      <td>1111010101111111111111111111111111111111111111...</td>\n",
              "      <td>426.0</td>\n",
              "      <td>23.0</td>\n",
              "    </tr>\n",
              "    <tr>\n",
              "      <th>3</th>\n",
              "      <td>1111110101011111111111111111111111111111111111...</td>\n",
              "      <td>534.0</td>\n",
              "      <td>22.0</td>\n",
              "    </tr>\n",
              "    <tr>\n",
              "      <th>4</th>\n",
              "      <td>1111111101010111111111111111111111111111111111...</td>\n",
              "      <td>458.0</td>\n",
              "      <td>23.0</td>\n",
              "    </tr>\n",
              "    <tr>\n",
              "      <th>...</th>\n",
              "      <td>...</td>\n",
              "      <td>...</td>\n",
              "      <td>...</td>\n",
              "    </tr>\n",
              "    <tr>\n",
              "      <th>220</th>\n",
              "      <td>1111110101010101010101010101010101010101111111...</td>\n",
              "      <td>451.0</td>\n",
              "      <td>114.0</td>\n",
              "    </tr>\n",
              "    <tr>\n",
              "      <th>221</th>\n",
              "      <td>1111111101010101010101010101010101010101011111...</td>\n",
              "      <td>454.0</td>\n",
              "      <td>114.0</td>\n",
              "    </tr>\n",
              "    <tr>\n",
              "      <th>222</th>\n",
              "      <td>1111111111010101010101010101010101010101010111...</td>\n",
              "      <td>452.0</td>\n",
              "      <td>116.0</td>\n",
              "    </tr>\n",
              "    <tr>\n",
              "      <th>223</th>\n",
              "      <td>1111111111110101010101010101010101010101010101...</td>\n",
              "      <td>513.0</td>\n",
              "      <td>115.0</td>\n",
              "    </tr>\n",
              "    <tr>\n",
              "      <th>224</th>\n",
              "      <td>1111111111111101010101010101010101010101010101...</td>\n",
              "      <td>450.0</td>\n",
              "      <td>116.0</td>\n",
              "    </tr>\n",
              "  </tbody>\n",
              "</table>\n",
              "<p>225 rows × 3 columns</p>\n",
              "</div>\n",
              "      <button class=\"colab-df-convert\" onclick=\"convertToInteractive('df-2dad471d-e0d2-4e8f-b19c-df6dd4dac331')\"\n",
              "              title=\"Convert this dataframe to an interactive table.\"\n",
              "              style=\"display:none;\">\n",
              "        \n",
              "  <svg xmlns=\"http://www.w3.org/2000/svg\" height=\"24px\"viewBox=\"0 0 24 24\"\n",
              "       width=\"24px\">\n",
              "    <path d=\"M0 0h24v24H0V0z\" fill=\"none\"/>\n",
              "    <path d=\"M18.56 5.44l.94 2.06.94-2.06 2.06-.94-2.06-.94-.94-2.06-.94 2.06-2.06.94zm-11 1L8.5 8.5l.94-2.06 2.06-.94-2.06-.94L8.5 2.5l-.94 2.06-2.06.94zm10 10l.94 2.06.94-2.06 2.06-.94-2.06-.94-.94-2.06-.94 2.06-2.06.94z\"/><path d=\"M17.41 7.96l-1.37-1.37c-.4-.4-.92-.59-1.43-.59-.52 0-1.04.2-1.43.59L10.3 9.45l-7.72 7.72c-.78.78-.78 2.05 0 2.83L4 21.41c.39.39.9.59 1.41.59.51 0 1.02-.2 1.41-.59l7.78-7.78 2.81-2.81c.8-.78.8-2.07 0-2.86zM5.41 20L4 18.59l7.72-7.72 1.47 1.35L5.41 20z\"/>\n",
              "  </svg>\n",
              "      </button>\n",
              "      \n",
              "  <style>\n",
              "    .colab-df-container {\n",
              "      display:flex;\n",
              "      flex-wrap:wrap;\n",
              "      gap: 12px;\n",
              "    }\n",
              "\n",
              "    .colab-df-convert {\n",
              "      background-color: #E8F0FE;\n",
              "      border: none;\n",
              "      border-radius: 50%;\n",
              "      cursor: pointer;\n",
              "      display: none;\n",
              "      fill: #1967D2;\n",
              "      height: 32px;\n",
              "      padding: 0 0 0 0;\n",
              "      width: 32px;\n",
              "    }\n",
              "\n",
              "    .colab-df-convert:hover {\n",
              "      background-color: #E2EBFA;\n",
              "      box-shadow: 0px 1px 2px rgba(60, 64, 67, 0.3), 0px 1px 3px 1px rgba(60, 64, 67, 0.15);\n",
              "      fill: #174EA6;\n",
              "    }\n",
              "\n",
              "    [theme=dark] .colab-df-convert {\n",
              "      background-color: #3B4455;\n",
              "      fill: #D2E3FC;\n",
              "    }\n",
              "\n",
              "    [theme=dark] .colab-df-convert:hover {\n",
              "      background-color: #434B5C;\n",
              "      box-shadow: 0px 1px 3px 1px rgba(0, 0, 0, 0.15);\n",
              "      filter: drop-shadow(0px 1px 2px rgba(0, 0, 0, 0.3));\n",
              "      fill: #FFFFFF;\n",
              "    }\n",
              "  </style>\n",
              "\n",
              "      <script>\n",
              "        const buttonEl =\n",
              "          document.querySelector('#df-2dad471d-e0d2-4e8f-b19c-df6dd4dac331 button.colab-df-convert');\n",
              "        buttonEl.style.display =\n",
              "          google.colab.kernel.accessAllowed ? 'block' : 'none';\n",
              "\n",
              "        async function convertToInteractive(key) {\n",
              "          const element = document.querySelector('#df-2dad471d-e0d2-4e8f-b19c-df6dd4dac331');\n",
              "          const dataTable =\n",
              "            await google.colab.kernel.invokeFunction('convertToInteractive',\n",
              "                                                     [key], {});\n",
              "          if (!dataTable) return;\n",
              "\n",
              "          const docLinkHtml = 'Like what you see? Visit the ' +\n",
              "            '<a target=\"_blank\" href=https://colab.research.google.com/notebooks/data_table.ipynb>data table notebook</a>'\n",
              "            + ' to learn more about interactive tables.';\n",
              "          element.innerHTML = '';\n",
              "          dataTable['output_type'] = 'display_data';\n",
              "          await google.colab.output.renderOutput(dataTable, element);\n",
              "          const docLink = document.createElement('div');\n",
              "          docLink.innerHTML = docLinkHtml;\n",
              "          element.appendChild(docLink);\n",
              "        }\n",
              "      </script>\n",
              "    </div>\n",
              "  </div>\n",
              "  "
            ]
          },
          "metadata": {},
          "execution_count": 6
        }
      ]
    },
    {
      "cell_type": "code",
      "source": [
        "plt.scatter(dataset['Total Gates'],dataset['Test Power'])\n",
        "plt.show()"
      ],
      "metadata": {
        "id": "TAfJhQ6WmoDC",
        "colab": {
          "base_uri": "https://localhost:8080/",
          "height": 268
        },
        "outputId": "a455e450-7cdf-4600-806a-7d26623feb81"
      },
      "execution_count": null,
      "outputs": [
        {
          "output_type": "display_data",
          "data": {
            "text/plain": [
              "<Figure size 432x288 with 1 Axes>"
            ],
            "image/png": "[encoded data removed]"
          },
          "metadata": {
            "needs_background": "light"
          }
        }
      ]
    },
    {
      "cell_type": "markdown",
      "source": [
        "Linear regression"
      ],
      "metadata": {
        "id": "ul9BhNAwQQuc"
      }
    },
    {
      "cell_type": "code",
      "source": [
        "switches = []\n",
        "for i in range(len(dataset)):\n",
        "  count=0\n",
        "  for j in range(len(dataset[\"VECTOR\"][i])-1):\n",
        "    if (dataset[\"VECTOR\"][i][j] == '1' and dataset[\"VECTOR\"][i][j+1] == '0'):\n",
        "      count = count+1\n",
        "    if (dataset[\"VECTOR\"][i][j] == '0' and dataset[\"VECTOR\"][i][j+1] == '1'):\n",
        "      count = count+1\n",
        "  switches.append(count)"
      ],
      "metadata": {
        "id": "iCRvTvzFSpo3"
      },
      "execution_count": null,
      "outputs": []
    },
    {
      "cell_type": "code",
      "source": [
        "# dataset['switches'] = switches\n",
        "idx = 1\n",
        "dataset.insert(loc=idx, column='Switch', value=switches)\n",
        "dataset"
      ],
      "metadata": {
        "colab": {
          "base_uri": "https://localhost:8080/",
          "height": 423
        },
        "id": "V6PWb7bCSuA2",
        "outputId": "b5f13382-24f7-48a8-b90d-087ba0de59ef"
      },
      "execution_count": null,
      "outputs": [
        {
          "output_type": "execute_result",
          "data": {
            "text/plain": [
              "                                                VECTOR  Switch  Total Gates  \\\n",
              "0    0101011111111111111111111111111111111111111111...       5        447.0   \n",
              "1    1101010111111111111111111111111111111111111111...       6        439.0   \n",
              "2    1111010101111111111111111111111111111111111111...       6        426.0   \n",
              "3    1111110101011111111111111111111111111111111111...       6        534.0   \n",
              "4    1111111101010111111111111111111111111111111111...       6        458.0   \n",
              "..                                                 ...     ...          ...   \n",
              "220  1111110101010101010101010101010101010101111111...      34        451.0   \n",
              "221  1111111101010101010101010101010101010101011111...      34        454.0   \n",
              "222  1111111111010101010101010101010101010101010111...      34        452.0   \n",
              "223  1111111111110101010101010101010101010101010101...      34        513.0   \n",
              "224  1111111111111101010101010101010101010101010101...      34        450.0   \n",
              "\n",
              "     Test Power  \n",
              "0          21.0  \n",
              "1          23.0  \n",
              "2          23.0  \n",
              "3          22.0  \n",
              "4          23.0  \n",
              "..          ...  \n",
              "220       114.0  \n",
              "221       114.0  \n",
              "222       116.0  \n",
              "223       115.0  \n",
              "224       116.0  \n",
              "\n",
              "[225 rows x 4 columns]"
            ],
            "text/html": [
              "\n",
              "  <div id=\"df-11c75dfd-a748-45ed-9a3f-b1a399e71bbe\">\n",
              "    <div class=\"colab-df-container\">\n",
              "      <div>\n",
              "<style scoped>\n",
              "    .dataframe tbody tr th:only-of-type {\n",
              "        vertical-align: middle;\n",
              "    }\n",
              "\n",
              "    .dataframe tbody tr th {\n",
              "        vertical-align: top;\n",
              "    }\n",
              "\n",
              "    .dataframe thead th {\n",
              "        text-align: right;\n",
              "    }\n",
              "</style>\n",
              "<table border=\"1\" class=\"dataframe\">\n",
              "  <thead>\n",
              "    <tr style=\"text-align: right;\">\n",
              "      <th></th>\n",
              "      <th>VECTOR</th>\n",
              "      <th>Switch</th>\n",
              "      <th>Total Gates</th>\n",
              "      <th>Test Power</th>\n",
              "    </tr>\n",
              "  </thead>\n",
              "  <tbody>\n",
              "    <tr>\n",
              "      <th>0</th>\n",
              "      <td>0101011111111111111111111111111111111111111111...</td>\n",
              "      <td>5</td>\n",
              "      <td>447.0</td>\n",
              "      <td>21.0</td>\n",
              "    </tr>\n",
              "    <tr>\n",
              "      <th>1</th>\n",
              "      <td>1101010111111111111111111111111111111111111111...</td>\n",
              "      <td>6</td>\n",
              "      <td>439.0</td>\n",
              "      <td>23.0</td>\n",
              "    </tr>\n",
              "    <tr>\n",
              "      <th>2</th>\n",
              "      <td>1111010101111111111111111111111111111111111111...</td>\n",
              "      <td>6</td>\n",
              "      <td>426.0</td>\n",
              "      <td>23.0</td>\n",
              "    </tr>\n",
              "    <tr>\n",
              "      <th>3</th>\n",
              "      <td>1111110101011111111111111111111111111111111111...</td>\n",
              "      <td>6</td>\n",
              "      <td>534.0</td>\n",
              "      <td>22.0</td>\n",
              "    </tr>\n",
              "    <tr>\n",
              "      <th>4</th>\n",
              "      <td>1111111101010111111111111111111111111111111111...</td>\n",
              "      <td>6</td>\n",
              "      <td>458.0</td>\n",
              "      <td>23.0</td>\n",
              "    </tr>\n",
              "    <tr>\n",
              "      <th>...</th>\n",
              "      <td>...</td>\n",
              "      <td>...</td>\n",
              "      <td>...</td>\n",
              "      <td>...</td>\n",
              "    </tr>\n",
              "    <tr>\n",
              "      <th>220</th>\n",
              "      <td>1111110101010101010101010101010101010101111111...</td>\n",
              "      <td>34</td>\n",
              "      <td>451.0</td>\n",
              "      <td>114.0</td>\n",
              "    </tr>\n",
              "    <tr>\n",
              "      <th>221</th>\n",
              "      <td>1111111101010101010101010101010101010101011111...</td>\n",
              "      <td>34</td>\n",
              "      <td>454.0</td>\n",
              "      <td>114.0</td>\n",
              "    </tr>\n",
              "    <tr>\n",
              "      <th>222</th>\n",
              "      <td>1111111111010101010101010101010101010101010111...</td>\n",
              "      <td>34</td>\n",
              "      <td>452.0</td>\n",
              "      <td>116.0</td>\n",
              "    </tr>\n",
              "    <tr>\n",
              "      <th>223</th>\n",
              "      <td>1111111111110101010101010101010101010101010101...</td>\n",
              "      <td>34</td>\n",
              "      <td>513.0</td>\n",
              "      <td>115.0</td>\n",
              "    </tr>\n",
              "    <tr>\n",
              "      <th>224</th>\n",
              "      <td>1111111111111101010101010101010101010101010101...</td>\n",
              "      <td>34</td>\n",
              "      <td>450.0</td>\n",
              "      <td>116.0</td>\n",
              "    </tr>\n",
              "  </tbody>\n",
              "</table>\n",
              "<p>225 rows × 4 columns</p>\n",
              "</div>\n",
              "      <button class=\"colab-df-convert\" onclick=\"convertToInteractive('df-11c75dfd-a748-45ed-9a3f-b1a399e71bbe')\"\n",
              "              title=\"Convert this dataframe to an interactive table.\"\n",
              "              style=\"display:none;\">\n",
              "        \n",
              "  <svg xmlns=\"http://www.w3.org/2000/svg\" height=\"24px\"viewBox=\"0 0 24 24\"\n",
              "       width=\"24px\">\n",
              "    <path d=\"M0 0h24v24H0V0z\" fill=\"none\"/>\n",
              "    <path d=\"M18.56 5.44l.94 2.06.94-2.06 2.06-.94-2.06-.94-.94-2.06-.94 2.06-2.06.94zm-11 1L8.5 8.5l.94-2.06 2.06-.94-2.06-.94L8.5 2.5l-.94 2.06-2.06.94zm10 10l.94 2.06.94-2.06 2.06-.94-2.06-.94-.94-2.06-.94 2.06-2.06.94z\"/><path d=\"M17.41 7.96l-1.37-1.37c-.4-.4-.92-.59-1.43-.59-.52 0-1.04.2-1.43.59L10.3 9.45l-7.72 7.72c-.78.78-.78 2.05 0 2.83L4 21.41c.39.39.9.59 1.41.59.51 0 1.02-.2 1.41-.59l7.78-7.78 2.81-2.81c.8-.78.8-2.07 0-2.86zM5.41 20L4 18.59l7.72-7.72 1.47 1.35L5.41 20z\"/>\n",
              "  </svg>\n",
              "      </button>\n",
              "      \n",
              "  <style>\n",
              "    .colab-df-container {\n",
              "      display:flex;\n",
              "      flex-wrap:wrap;\n",
              "      gap: 12px;\n",
              "    }\n",
              "\n",
              "    .colab-df-convert {\n",
              "      background-color: #E8F0FE;\n",
              "      border: none;\n",
              "      border-radius: 50%;\n",
              "      cursor: pointer;\n",
              "      display: none;\n",
              "      fill: #1967D2;\n",
              "      height: 32px;\n",
              "      padding: 0 0 0 0;\n",
              "      width: 32px;\n",
              "    }\n",
              "\n",
              "    .colab-df-convert:hover {\n",
              "      background-color: #E2EBFA;\n",
              "      box-shadow: 0px 1px 2px rgba(60, 64, 67, 0.3), 0px 1px 3px 1px rgba(60, 64, 67, 0.15);\n",
              "      fill: #174EA6;\n",
              "    }\n",
              "\n",
              "    [theme=dark] .colab-df-convert {\n",
              "      background-color: #3B4455;\n",
              "      fill: #D2E3FC;\n",
              "    }\n",
              "\n",
              "    [theme=dark] .colab-df-convert:hover {\n",
              "      background-color: #434B5C;\n",
              "      box-shadow: 0px 1px 3px 1px rgba(0, 0, 0, 0.15);\n",
              "      filter: drop-shadow(0px 1px 2px rgba(0, 0, 0, 0.3));\n",
              "      fill: #FFFFFF;\n",
              "    }\n",
              "  </style>\n",
              "\n",
              "      <script>\n",
              "        const buttonEl =\n",
              "          document.querySelector('#df-11c75dfd-a748-45ed-9a3f-b1a399e71bbe button.colab-df-convert');\n",
              "        buttonEl.style.display =\n",
              "          google.colab.kernel.accessAllowed ? 'block' : 'none';\n",
              "\n",
              "        async function convertToInteractive(key) {\n",
              "          const element = document.querySelector('#df-11c75dfd-a748-45ed-9a3f-b1a399e71bbe');\n",
              "          const dataTable =\n",
              "            await google.colab.kernel.invokeFunction('convertToInteractive',\n",
              "                                                     [key], {});\n",
              "          if (!dataTable) return;\n",
              "\n",
              "          const docLinkHtml = 'Like what you see? Visit the ' +\n",
              "            '<a target=\"_blank\" href=https://colab.research.google.com/notebooks/data_table.ipynb>data table notebook</a>'\n",
              "            + ' to learn more about interactive tables.';\n",
              "          element.innerHTML = '';\n",
              "          dataTable['output_type'] = 'display_data';\n",
              "          await google.colab.output.renderOutput(dataTable, element);\n",
              "          const docLink = document.createElement('div');\n",
              "          docLink.innerHTML = docLinkHtml;\n",
              "          element.appendChild(docLink);\n",
              "        }\n",
              "      </script>\n",
              "    </div>\n",
              "  </div>\n",
              "  "
            ]
          },
          "metadata": {},
          "execution_count": 9
        }
      ]
    },
    {
      "cell_type": "code",
      "source": [
        "x = dataset.iloc[:, 1:-1].values\n",
        "y = dataset.iloc[:, -1].values\n",
        "x_train, x_test, y_train, y_test = train_test_split(x, y, test_size = 0.3, random_state=1)"
      ],
      "metadata": {
        "id": "7w2rOQqzPsEv"
      },
      "execution_count": null,
      "outputs": []
    },
    {
      "cell_type": "code",
      "source": [
        "ss=StandardScaler()\n",
        "x=ss.fit_transform(x) \n",
        "x_train, x_test, y_train, y_test = train_test_split(x, y, test_size = 0.3, random_state=1)"
      ],
      "metadata": {
        "id": "zfegWpNQho1L"
      },
      "execution_count": null,
      "outputs": []
    },
    {
      "cell_type": "code",
      "source": [
        "log_reg = LogisticRegression()\n",
        "log_reg = log_reg.fit(x_train,y_train)\n",
        "y_pred_log = log_reg.predict(x_test)"
      ],
      "metadata": {
        "id": "gV-F4cQdQj9a"
      },
      "execution_count": null,
      "outputs": []
    },
    {
      "cell_type": "code",
      "source": [
        "print(MSE(y_pred_log,y_test))"
      ],
      "metadata": {
        "colab": {
          "base_uri": "https://localhost:8080/"
        },
        "id": "VBJ3ih3ASvXS",
        "outputId": "c2e199af-748b-4543-abd4-c132c782477c"
      },
      "execution_count": null,
      "outputs": [
        {
          "output_type": "stream",
          "name": "stdout",
          "text": [
            "136.58823529411765\n"
          ]
        }
      ]
    },
    {
      "cell_type": "markdown",
      "source": [
        "Ridge regression"
      ],
      "metadata": {
        "id": "NIP8UcLUUQsA"
      }
    },
    {
      "cell_type": "code",
      "source": [
        "reg_ridge = Ridge(alpha = 1)\n",
        "reg_ridge.fit(x_train,y_train)\n",
        "y_pred_ridge = reg_ridge.predict(x_test)"
      ],
      "metadata": {
        "id": "jJTznGTHT8Cf"
      },
      "execution_count": null,
      "outputs": []
    },
    {
      "cell_type": "code",
      "source": [
        "print(MSE(y_pred_ridge,y_test))"
      ],
      "metadata": {
        "colab": {
          "base_uri": "https://localhost:8080/"
        },
        "id": "XFFDozLxUSjK",
        "outputId": "f7a2940e-f602-4a78-9f48-4995771b525f"
      },
      "execution_count": null,
      "outputs": [
        {
          "output_type": "stream",
          "name": "stdout",
          "text": [
            "35.68166636541798\n"
          ]
        }
      ]
    },
    {
      "cell_type": "markdown",
      "source": [
        "Nearest neighbour regression"
      ],
      "metadata": {
        "id": "p1x-mSpNUdsY"
      }
    },
    {
      "cell_type": "code",
      "source": [
        "knn_reg = KNeighborsRegressor(n_neighbors=5)\n",
        "knn_reg.fit(x_train,y_train)\n",
        "y_pred_knn = knn_reg.predict(x_test)"
      ],
      "metadata": {
        "id": "CoJUwpoiUdGo"
      },
      "execution_count": null,
      "outputs": []
    },
    {
      "cell_type": "code",
      "source": [
        "print(MSE(y_pred_knn,y_test))"
      ],
      "metadata": {
        "colab": {
          "base_uri": "https://localhost:8080/"
        },
        "id": "_H9Wa5oxUnlG",
        "outputId": "9f294110-d65f-4093-9fe4-92889b4a19dd"
      },
      "execution_count": null,
      "outputs": [
        {
          "output_type": "stream",
          "name": "stdout",
          "text": [
            "13.024117647058823\n"
          ]
        }
      ]
    },
    {
      "cell_type": "code",
      "source": [
        "MSE_list = list()\n",
        "for i in range(5,15):\n",
        "  knn_reg = KNeighborsRegressor(n_neighbors=i)\n",
        "  knn_reg.fit(x_train,y_train)\n",
        "  y_pred_knn = knn_reg.predict(x_test)\n",
        "  MSE_list.append(MSE(y_pred_knn,y_test))"
      ],
      "metadata": {
        "id": "vq37gXOl922o"
      },
      "execution_count": null,
      "outputs": []
    },
    {
      "cell_type": "code",
      "source": [
        "plt.plot(range(5,15),MSE_list)\n",
        "plt.show()"
      ],
      "metadata": {
        "colab": {
          "base_uri": "https://localhost:8080/",
          "height": 269
        },
        "id": "-Ga5UbWj-MrY",
        "outputId": "35c947e8-7a0e-4c48-cb2f-126eb61b046e"
      },
      "execution_count": null,
      "outputs": [
        {
          "output_type": "display_data",
          "data": {
            "text/plain": [
              "<Figure size 432x288 with 1 Axes>"
            ],
            "image/png": "[encoded data removed]"
          },
          "metadata": {
            "needs_background": "light"
          }
        }
      ]
    },
    {
      "cell_type": "code",
      "source": [
        "# INCREASING N_NEIGHBOURS DECREASE MSE"
      ],
      "metadata": {
        "id": "MMuuWmZb-xLO"
      },
      "execution_count": null,
      "outputs": []
    },
    {
      "cell_type": "markdown",
      "source": [
        "Neural network regression"
      ],
      "metadata": {
        "id": "_lLLP0UOUxwA"
      }
    },
    {
      "cell_type": "code",
      "source": [
        "from sklearn.neural_network import MLPRegressor\n",
        "from sklearn.preprocessing import StandardScaler\n",
        "from sklearn.metrics import r2_score"
      ],
      "metadata": {
        "id": "IBXe8IrfCnc6"
      },
      "execution_count": null,
      "outputs": []
    },
    {
      "cell_type": "code",
      "source": [
        "ss=StandardScaler()\n",
        "x=ss.fit_transform(x) \n",
        "x_train, x_test, y_train, y_test = train_test_split(x, y, test_size = 0.3, random_state=1)"
      ],
      "metadata": {
        "id": "Z6h56zyTTaSA"
      },
      "execution_count": null,
      "outputs": []
    },
    {
      "cell_type": "code",
      "source": [
        "from sklearn.neural_network import MLPRegressor\n",
        "reg_nnr = MLPRegressor(random_state=1,max_iter = 2000)\n",
        "reg_nnr.fit(x_train,y_train)\n",
        "y_predict_nnr = reg_nnr.predict(x_test)\n",
        "print('Mean Squared Error(MSE):', MSE(y_predict_nnr,y_test))"
      ],
      "metadata": {
        "colab": {
          "base_uri": "https://localhost:8080/"
        },
        "id": "cIiltQfijdZW",
        "outputId": "b833aaba-6b73-4b6c-f731-a212a18cc1c6"
      },
      "execution_count": null,
      "outputs": [
        {
          "output_type": "stream",
          "name": "stdout",
          "text": [
            "Mean Squared Error(MSE): 22.051888138179077\n"
          ]
        }
      ]
    },
    {
      "cell_type": "markdown",
      "source": [
        "#ANN(Artificial Neural Network Model)"
      ],
      "metadata": {
        "id": "_EXUHUVQmrCr"
      }
    },
    {
      "cell_type": "code",
      "source": [
        "hidden_units1 = 160\n",
        "hidden_units2 = 480\n",
        "hidden_units3 = 256\n",
        "learning_rate = 0.01\n",
        "# Creating model using the Sequential in tensorflow\n",
        "def build_model_using_sequential():\n",
        "  model = Sequential([\n",
        "    Dense(hidden_units1, kernel_initializer='normal', activation='relu'),\n",
        "    Dropout(0.2),\n",
        "    Dense(hidden_units2, kernel_initializer='normal', activation='relu'),\n",
        "    Dropout(0.2),\n",
        "    Dense(hidden_units3, kernel_initializer='normal', activation='relu'),\n",
        "    Dense(1, kernel_initializer='normal', activation='linear')\n",
        "  ])\n",
        "  return model\n",
        "# build the model\n",
        "model = build_model_using_sequential()"
      ],
      "metadata": {
        "id": "ScjTjCW-W73r"
      },
      "execution_count": null,
      "outputs": []
    },
    {
      "cell_type": "code",
      "source": [
        "msle = MeanSquaredLogarithmicError()\n",
        "model.compile(\n",
        "    loss=msle, \n",
        "    optimizer=Adam(learning_rate=learning_rate), \n",
        "    metrics=[msle]\n",
        ")\n",
        "# train the model\n",
        "history = model.fit(\n",
        "    x_train, \n",
        "    y_train, \n",
        "    epochs=10, \n",
        "    batch_size=64,\n",
        "    validation_split=0.2\n",
        ")"
      ],
      "metadata": {
        "colab": {
          "base_uri": "https://localhost:8080/"
        },
        "id": "qmKioUkHXMtg",
        "outputId": "9eed2531-d423-4ef5-c2f7-36881562a2c8"
      },
      "execution_count": null,
      "outputs": [
        {
          "output_type": "stream",
          "name": "stdout",
          "text": [
            "Epoch 1/10\n",
            "2/2 [==============================] - 1s 218ms/step - loss: 12.9268 - mean_squared_logarithmic_error: 12.8695 - val_loss: 5.7840 - val_mean_squared_logarithmic_error: 5.7840\n",
            "Epoch 2/10\n",
            "2/2 [==============================] - 0s 30ms/step - loss: 3.5122 - mean_squared_logarithmic_error: 3.4722 - val_loss: 0.4234 - val_mean_squared_logarithmic_error: 0.4234\n",
            "Epoch 3/10\n",
            "2/2 [==============================] - 0s 34ms/step - loss: 0.2470 - mean_squared_logarithmic_error: 0.2456 - val_loss: 0.3902 - val_mean_squared_logarithmic_error: 0.3902\n",
            "Epoch 4/10\n",
            "2/2 [==============================] - 0s 29ms/step - loss: 0.8171 - mean_squared_logarithmic_error: 0.8225 - val_loss: 1.2056 - val_mean_squared_logarithmic_error: 1.2056\n",
            "Epoch 5/10\n",
            "2/2 [==============================] - 0s 31ms/step - loss: 1.5936 - mean_squared_logarithmic_error: 1.5941 - val_loss: 1.5106 - val_mean_squared_logarithmic_error: 1.5106\n",
            "Epoch 6/10\n",
            "2/2 [==============================] - 0s 29ms/step - loss: 1.7867 - mean_squared_logarithmic_error: 1.7883 - val_loss: 1.3067 - val_mean_squared_logarithmic_error: 1.3067\n",
            "Epoch 7/10\n",
            "2/2 [==============================] - 0s 33ms/step - loss: 1.4548 - mean_squared_logarithmic_error: 1.4525 - val_loss: 0.8304 - val_mean_squared_logarithmic_error: 0.8304\n",
            "Epoch 8/10\n",
            "2/2 [==============================] - 0s 28ms/step - loss: 0.9161 - mean_squared_logarithmic_error: 0.9135 - val_loss: 0.3557 - val_mean_squared_logarithmic_error: 0.3557\n",
            "Epoch 9/10\n",
            "2/2 [==============================] - 0s 29ms/step - loss: 0.4284 - mean_squared_logarithmic_error: 0.4260 - val_loss: 0.0993 - val_mean_squared_logarithmic_error: 0.0993\n",
            "Epoch 10/10\n",
            "2/2 [==============================] - 0s 32ms/step - loss: 0.1764 - mean_squared_logarithmic_error: 0.1758 - val_loss: 0.1385 - val_mean_squared_logarithmic_error: 0.1385\n"
          ]
        }
      ]
    },
    {
      "cell_type": "code",
      "source": [
        "def plot_history(history, key):\n",
        "  plt.plot(history.history[key])\n",
        "  #plt.plot(history.history['val_'+key])\n",
        "  plt.xlabel(\"Epochs\")\n",
        "  plt.ylabel(key)\n",
        "  plt.legend([key])\n",
        "  plt.show()\n",
        "# Plot the history\n",
        "plot_history(history, 'mean_squared_logarithmic_error')"
      ],
      "metadata": {
        "colab": {
          "base_uri": "https://localhost:8080/",
          "height": 279
        },
        "id": "Wh6zLAWJYg0Q",
        "outputId": "5401918f-c3a7-40c3-b38a-2d42b2da87ab"
      },
      "execution_count": null,
      "outputs": [
        {
          "output_type": "display_data",
          "data": {
            "text/plain": [
              "<Figure size 432x288 with 1 Axes>"
            ],
            "image/png": "[encoded data removed]"
          },
          "metadata": {
            "needs_background": "light"
          }
        }
      ]
    },
    {
      "cell_type": "code",
      "source": [
        "#The image above shows that as the epochs increase the loss decreases, which is a good sign of progress"
      ],
      "metadata": {
        "id": "S_IV-p8AY6I0"
      },
      "execution_count": null,
      "outputs": []
    },
    {
      "cell_type": "markdown",
      "source": [
        "#with appropriate hyperparameters"
      ],
      "metadata": {
        "id": "FdzZcCasnXIU"
      }
    },
    {
      "cell_type": "code",
      "source": [
        "reg = MLPRegressor(hidden_layer_sizes=(64,64,64),activation=\"relu\" ,random_state=1, max_iter=2000).fit(x_train, y_train)\n",
        "y_pred_nn=reg.predict(x_test)\n",
        "print(\"MSE for Neural Network Model \",MSE(y_pred_nn, y_test))"
      ],
      "metadata": {
        "colab": {
          "base_uri": "https://localhost:8080/"
        },
        "id": "Vfu7AnpYXa3c",
        "outputId": "3e053c40-b5a9-46e5-e7fc-824f18fa184e"
      },
      "execution_count": null,
      "outputs": [
        {
          "output_type": "stream",
          "name": "stdout",
          "text": [
            "The Score with  0.8796303817055575\n"
          ]
        }
      ]
    },
    {
      "cell_type": "code",
      "source": [
        "plt.plot(y_test,color=\"#0a9396\")\n",
        "plt.plot(y_pred_nn,color=\"#f07167\")\n",
        "plt.show()"
      ],
      "metadata": {
        "id": "vPyj50YaXeua",
        "colab": {
          "base_uri": "https://localhost:8080/",
          "height": 268
        },
        "outputId": "f361f111-8ea6-493a-c054-b53df4b044f7"
      },
      "execution_count": null,
      "outputs": [
        {
          "output_type": "display_data",
          "data": {
            "text/plain": [
              "<Figure size 432x288 with 1 Axes>"
            ],
            "image/png": "[encoded data removed]"
          },
          "metadata": {
            "needs_background": "light"
          }
        }
      ]
    },
    {
      "cell_type": "code",
      "source": [
        "from sklearn.linear_model import LogisticRegression"
      ],
      "metadata": {
        "id": "ABItoaF1kXNb"
      },
      "execution_count": null,
      "outputs": []
    },
    {
      "cell_type": "code",
      "source": [
        "logisticRegr = LogisticRegression()\n",
        "logisticRegr.fit(x_train, y_train)\n",
        "y_pred_lr=logisticRegr.predict(x_test)\n",
        "print(\"MSE using logistic regression: \",MSE(y_pred_lr, y_test))"
      ],
      "metadata": {
        "colab": {
          "base_uri": "https://localhost:8080/"
        },
        "id": "N1dV08jelhlY",
        "outputId": "cbe19fa0-6c8f-40bd-d3b1-e048a32b87c3"
      },
      "execution_count": null,
      "outputs": [
        {
          "output_type": "stream",
          "name": "stdout",
          "text": [
            "MSE using logistic regression:  136.58823529411765\n"
          ]
        }
      ]
    },
    {
      "cell_type": "code",
      "source": [
        "plt.plot(y_test,color=\"#0a9396\")\n",
        "plt.plot(y_pred_lr,color=\"#f07167\")\n",
        "plt.show()"
      ],
      "metadata": {
        "colab": {
          "base_uri": "https://localhost:8080/",
          "height": 268
        },
        "id": "MHGLSQM2mGak",
        "outputId": "cb706402-03e4-4872-8e88-c8505d2bf5f3"
      },
      "execution_count": null,
      "outputs": [
        {
          "output_type": "display_data",
          "data": {
            "text/plain": [
              "<Figure size 432x288 with 1 Axes>"
            ],
            "image/png": "[encoded data removed]"
          },
          "metadata": {
            "needs_background": "light"
          }
        }
      ]
    },
    {
      "cell_type": "code",
      "source": [
        ""
      ],
      "metadata": {
        "id": "KXHr6N-hmUR5"
      },
      "execution_count": null,
      "outputs": []
    }
  ]
}