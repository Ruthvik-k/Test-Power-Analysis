{
  "nbformat": 4,
  "nbformat_minor": 0,
  "metadata": {
    "colab": {
      "name": "DC2.ipynb",
      "provenance": [],
      "collapsed_sections": []
    },
    "kernelspec": {
      "name": "python3",
      "display_name": "Python 3"
    },
    "language_info": {
      "name": "python"
    }
  },
  "cells": [
    {
      "cell_type": "markdown",
      "source": [
        "#Dataset"
      ],
      "metadata": {
        "id": "yyfE5mdcbQkz"
      }
    },
    {
      "cell_type": "code",
      "source": [
        "import pandas as pd\n",
        "import numpy as np\n",
        "from sklearn.neural_network import MLPRegressor\n",
        "from sklearn.model_selection import train_test_split\n",
        "import matplotlib.pyplot as plt\n",
        "data=pd.read_csv(\"/content/final_data.csv\")\n",
        "df=data.drop(data.columns[0],axis=1)\n",
        "df"
      ],
      "metadata": {
        "colab": {
          "base_uri": "https://localhost:8080/",
          "height": 423
        },
        "id": "C17HhLMrES7E",
        "outputId": "e7947c9c-77cd-4c30-bfdc-25e762fd6f6e"
      },
      "execution_count": null,
      "outputs": [
        {
          "output_type": "execute_result",
          "data": {
            "text/plain": [
              "      Number of gates  Number of flops  Number of Test Vectors  \\\n",
              "0                 695              283                       3   \n",
              "1                 755              289                       5   \n",
              "2                 765              289                       5   \n",
              "3                 805              295                       6   \n",
              "4                 805              294                       7   \n",
              "...               ...              ...                     ...   \n",
              "5627              775              289                       4   \n",
              "5628              910              299                       5   \n",
              "5629              825              289                       3   \n",
              "5630              835              294                       4   \n",
              "5631              865              297                       5   \n",
              "\n",
              "      Equivalent Area of Block  Test Power(in uJoules)  \n",
              "0                          576              694.915209  \n",
              "1                          976              699.192675  \n",
              "2                         1036              697.822985  \n",
              "3                         1176              709.831915  \n",
              "4                         1176              707.501416  \n",
              "...                        ...                     ...  \n",
              "5627                       976              700.733356  \n",
              "5628                      1626              711.156631  \n",
              "5629                      1226              695.672885  \n",
              "5630                      1256              706.976219  \n",
              "5631                      1376              711.963048  \n",
              "\n",
              "[5632 rows x 5 columns]"
            ],
            "text/html": [
              "\n",
              "  <div id=\"df-6ebe1b5e-7942-4d35-9ef5-8fa513413a24\">\n",
              "    <div class=\"colab-df-container\">\n",
              "      <div>\n",
              "<style scoped>\n",
              "    .dataframe tbody tr th:only-of-type {\n",
              "        vertical-align: middle;\n",
              "    }\n",
              "\n",
              "    .dataframe tbody tr th {\n",
              "        vertical-align: top;\n",
              "    }\n",
              "\n",
              "    .dataframe thead th {\n",
              "        text-align: right;\n",
              "    }\n",
              "</style>\n",
              "<table border=\"1\" class=\"dataframe\">\n",
              "  <thead>\n",
              "    <tr style=\"text-align: right;\">\n",
              "      <th></th>\n",
              "      <th>Number of gates</th>\n",
              "      <th>Number of flops</th>\n",
              "      <th>Number of Test Vectors</th>\n",
              "      <th>Equivalent Area of Block</th>\n",
              "      <th>Test Power(in uJoules)</th>\n",
              "    </tr>\n",
              "  </thead>\n",
              "  <tbody>\n",
              "    <tr>\n",
              "      <th>0</th>\n",
              "      <td>695</td>\n",
              "      <td>283</td>\n",
              "      <td>3</td>\n",
              "      <td>576</td>\n",
              "      <td>694.915209</td>\n",
              "    </tr>\n",
              "    <tr>\n",
              "      <th>1</th>\n",
              "      <td>755</td>\n",
              "      <td>289</td>\n",
              "      <td>5</td>\n",
              "      <td>976</td>\n",
              "      <td>699.192675</td>\n",
              "    </tr>\n",
              "    <tr>\n",
              "      <th>2</th>\n",
              "      <td>765</td>\n",
              "      <td>289</td>\n",
              "      <td>5</td>\n",
              "      <td>1036</td>\n",
              "      <td>697.822985</td>\n",
              "    </tr>\n",
              "    <tr>\n",
              "      <th>3</th>\n",
              "      <td>805</td>\n",
              "      <td>295</td>\n",
              "      <td>6</td>\n",
              "      <td>1176</td>\n",
              "      <td>709.831915</td>\n",
              "    </tr>\n",
              "    <tr>\n",
              "      <th>4</th>\n",
              "      <td>805</td>\n",
              "      <td>294</td>\n",
              "      <td>7</td>\n",
              "      <td>1176</td>\n",
              "      <td>707.501416</td>\n",
              "    </tr>\n",
              "    <tr>\n",
              "      <th>...</th>\n",
              "      <td>...</td>\n",
              "      <td>...</td>\n",
              "      <td>...</td>\n",
              "      <td>...</td>\n",
              "      <td>...</td>\n",
              "    </tr>\n",
              "    <tr>\n",
              "      <th>5627</th>\n",
              "      <td>775</td>\n",
              "      <td>289</td>\n",
              "      <td>4</td>\n",
              "      <td>976</td>\n",
              "      <td>700.733356</td>\n",
              "    </tr>\n",
              "    <tr>\n",
              "      <th>5628</th>\n",
              "      <td>910</td>\n",
              "      <td>299</td>\n",
              "      <td>5</td>\n",
              "      <td>1626</td>\n",
              "      <td>711.156631</td>\n",
              "    </tr>\n",
              "    <tr>\n",
              "      <th>5629</th>\n",
              "      <td>825</td>\n",
              "      <td>289</td>\n",
              "      <td>3</td>\n",
              "      <td>1226</td>\n",
              "      <td>695.672885</td>\n",
              "    </tr>\n",
              "    <tr>\n",
              "      <th>5630</th>\n",
              "      <td>835</td>\n",
              "      <td>294</td>\n",
              "      <td>4</td>\n",
              "      <td>1256</td>\n",
              "      <td>706.976219</td>\n",
              "    </tr>\n",
              "    <tr>\n",
              "      <th>5631</th>\n",
              "      <td>865</td>\n",
              "      <td>297</td>\n",
              "      <td>5</td>\n",
              "      <td>1376</td>\n",
              "      <td>711.963048</td>\n",
              "    </tr>\n",
              "  </tbody>\n",
              "</table>\n",
              "<p>5632 rows × 5 columns</p>\n",
              "</div>\n",
              "      <button class=\"colab-df-convert\" onclick=\"convertToInteractive('df-6ebe1b5e-7942-4d35-9ef5-8fa513413a24')\"\n",
              "              title=\"Convert this dataframe to an interactive table.\"\n",
              "              style=\"display:none;\">\n",
              "        \n",
              "  <svg xmlns=\"http://www.w3.org/2000/svg\" height=\"24px\"viewBox=\"0 0 24 24\"\n",
              "       width=\"24px\">\n",
              "    <path d=\"M0 0h24v24H0V0z\" fill=\"none\"/>\n",
              "    <path d=\"M18.56 5.44l.94 2.06.94-2.06 2.06-.94-2.06-.94-.94-2.06-.94 2.06-2.06.94zm-11 1L8.5 8.5l.94-2.06 2.06-.94-2.06-.94L8.5 2.5l-.94 2.06-2.06.94zm10 10l.94 2.06.94-2.06 2.06-.94-2.06-.94-.94-2.06-.94 2.06-2.06.94z\"/><path d=\"M17.41 7.96l-1.37-1.37c-.4-.4-.92-.59-1.43-.59-.52 0-1.04.2-1.43.59L10.3 9.45l-7.72 7.72c-.78.78-.78 2.05 0 2.83L4 21.41c.39.39.9.59 1.41.59.51 0 1.02-.2 1.41-.59l7.78-7.78 2.81-2.81c.8-.78.8-2.07 0-2.86zM5.41 20L4 18.59l7.72-7.72 1.47 1.35L5.41 20z\"/>\n",
              "  </svg>\n",
              "      </button>\n",
              "      \n",
              "  <style>\n",
              "    .colab-df-container {\n",
              "      display:flex;\n",
              "      flex-wrap:wrap;\n",
              "      gap: 12px;\n",
              "    }\n",
              "\n",
              "    .colab-df-convert {\n",
              "      background-color: #E8F0FE;\n",
              "      border: none;\n",
              "      border-radius: 50%;\n",
              "      cursor: pointer;\n",
              "      display: none;\n",
              "      fill: #1967D2;\n",
              "      height: 32px;\n",
              "      padding: 0 0 0 0;\n",
              "      width: 32px;\n",
              "    }\n",
              "\n",
              "    .colab-df-convert:hover {\n",
              "      background-color: #E2EBFA;\n",
              "      box-shadow: 0px 1px 2px rgba(60, 64, 67, 0.3), 0px 1px 3px 1px rgba(60, 64, 67, 0.15);\n",
              "      fill: #174EA6;\n",
              "    }\n",
              "\n",
              "    [theme=dark] .colab-df-convert {\n",
              "      background-color: #3B4455;\n",
              "      fill: #D2E3FC;\n",
              "    }\n",
              "\n",
              "    [theme=dark] .colab-df-convert:hover {\n",
              "      background-color: #434B5C;\n",
              "      box-shadow: 0px 1px 3px 1px rgba(0, 0, 0, 0.15);\n",
              "      filter: drop-shadow(0px 1px 2px rgba(0, 0, 0, 0.3));\n",
              "      fill: #FFFFFF;\n",
              "    }\n",
              "  </style>\n",
              "\n",
              "      <script>\n",
              "        const buttonEl =\n",
              "          document.querySelector('#df-6ebe1b5e-7942-4d35-9ef5-8fa513413a24 button.colab-df-convert');\n",
              "        buttonEl.style.display =\n",
              "          google.colab.kernel.accessAllowed ? 'block' : 'none';\n",
              "\n",
              "        async function convertToInteractive(key) {\n",
              "          const element = document.querySelector('#df-6ebe1b5e-7942-4d35-9ef5-8fa513413a24');\n",
              "          const dataTable =\n",
              "            await google.colab.kernel.invokeFunction('convertToInteractive',\n",
              "                                                     [key], {});\n",
              "          if (!dataTable) return;\n",
              "\n",
              "          const docLinkHtml = 'Like what you see? Visit the ' +\n",
              "            '<a target=\"_blank\" href=https://colab.research.google.com/notebooks/data_table.ipynb>data table notebook</a>'\n",
              "            + ' to learn more about interactive tables.';\n",
              "          element.innerHTML = '';\n",
              "          dataTable['output_type'] = 'display_data';\n",
              "          await google.colab.output.renderOutput(dataTable, element);\n",
              "          const docLink = document.createElement('div');\n",
              "          docLink.innerHTML = docLinkHtml;\n",
              "          element.appendChild(docLink);\n",
              "        }\n",
              "      </script>\n",
              "    </div>\n",
              "  </div>\n",
              "  "
            ]
          },
          "metadata": {},
          "execution_count": 8
        }
      ]
    },
    {
      "cell_type": "code",
      "source": [
        "! pip install yellowbrick"
      ],
      "metadata": {
        "id": "606RgFg7snyH"
      },
      "execution_count": null,
      "outputs": []
    },
    {
      "cell_type": "code",
      "source": [
        "from sklearn.linear_model import LinearRegression, Lasso, Ridge\n",
        "from sklearn.model_selection import train_test_split\n",
        "from yellowbrick.regressor import PredictionError\n",
        "import pandas as pd"
      ],
      "metadata": {
        "id": "DtKTgTW_kG_5"
      },
      "execution_count": null,
      "outputs": []
    },
    {
      "cell_type": "code",
      "source": [
        "X=df.iloc[:,:-1]\n",
        "y=df.iloc[:,-1]\n",
        "X_train, X_test, y_train, y_test = train_test_split(X, y, test_size=0.3, random_state=42)"
      ],
      "metadata": {
        "id": "OahhtF6Atpjy"
      },
      "execution_count": null,
      "outputs": []
    },
    {
      "cell_type": "markdown",
      "source": [
        "#Linear Regression"
      ],
      "metadata": {
        "id": "ByWbG5YWvOvo"
      }
    },
    {
      "cell_type": "code",
      "source": [
        "from sklearn import metrics\n",
        "from sklearn.linear_model import LinearRegression\n",
        "model1=LinearRegression()\n",
        "model1.fit(X_train, y_train)\n",
        "y_pred=model1.predict(X_test)\n",
        "a=metrics.mean_squared_error(y_test, y_pred)\n",
        "#print(a)\n",
        "print('Mean Squared Error(MSE):', metrics.mean_squared_error(y_test, y_pred))"
      ],
      "metadata": {
        "colab": {
          "base_uri": "https://localhost:8080/"
        },
        "id": "20WPjW9bvOJ2",
        "outputId": "7f4121c5-50b6-4e76-a9cf-1faa324267c3"
      },
      "execution_count": null,
      "outputs": [
        {
          "output_type": "stream",
          "name": "stdout",
          "text": [
            "Mean Squared Error(MSE): 2.3160445331505077e-25\n"
          ]
        }
      ]
    },
    {
      "cell_type": "markdown",
      "source": [
        "#Lasso Regression"
      ],
      "metadata": {
        "id": "okYxzqgeukPH"
      }
    },
    {
      "cell_type": "code",
      "source": [
        "from sklearn.linear_model import Lasso\n",
        "model2=Lasso(alpha=.1)\n",
        "model2.fit(X_train, y_train)\n",
        "y_pred=model2.predict(X_test)\n",
        "b=metrics.mean_squared_error(y_test, y_pred)\n",
        "#print(b)\n",
        "print('Mean Squared Error(MSE):', metrics.mean_squared_error(y_test, y_pred))"
      ],
      "metadata": {
        "colab": {
          "base_uri": "https://localhost:8080/"
        },
        "id": "UJ7iwcBnLlF7",
        "outputId": "d3906f1e-e436-4ec2-b304-9c6294792de9"
      },
      "execution_count": null,
      "outputs": [
        {
          "output_type": "stream",
          "name": "stdout",
          "text": [
            "Mean Squared Error(MSE): 0.0028720894211499343\n"
          ]
        }
      ]
    },
    {
      "cell_type": "markdown",
      "source": [
        "#Ridge Regression model"
      ],
      "metadata": {
        "id": "FZjRLWidum6V"
      }
    },
    {
      "cell_type": "code",
      "source": [
        "from sklearn.linear_model import Ridge\n",
        "model3=Ridge(alpha=.1)\n",
        "model3.fit(X_train, y_train)\n",
        "y_pred=model3.predict(X_test)\n",
        "c=metrics.mean_squared_error(y_test, y_pred)\n",
        "#print(c)\n",
        "print('Mean Squared Error(MSE):', metrics.mean_squared_error(y_test, y_pred))"
      ],
      "metadata": {
        "colab": {
          "base_uri": "https://localhost:8080/"
        },
        "id": "wlCdDxynT_NZ",
        "outputId": "b15596e4-4c70-4dad-e57e-cd3cfd2f456f"
      },
      "execution_count": null,
      "outputs": [
        {
          "output_type": "stream",
          "name": "stdout",
          "text": [
            "Mean Squared Error(MSE): 1.2071788532111875e-09\n"
          ]
        }
      ]
    },
    {
      "cell_type": "markdown",
      "source": [
        "#Neural Network regressor"
      ],
      "metadata": {
        "id": "DFn1X0j8iMkX"
      }
    },
    {
      "cell_type": "code",
      "source": [
        "reg_nnr = MLPRegressor(random_state=1,max_iter = 2000)\n",
        "reg_nnr.fit(X_train,y_train)\n",
        "y_predict_nnr = reg_nnr.predict(X_test)\n",
        "print('Mean Squared Error(MSE):', metrics.mean_squared_error(y_predict_nnr,y_test))"
      ],
      "metadata": {
        "colab": {
          "base_uri": "https://localhost:8080/"
        },
        "id": "o7WTpabRiKbB",
        "outputId": "4c4dee15-18db-46e9-f4b7-474c658da8db"
      },
      "execution_count": null,
      "outputs": [
        {
          "output_type": "stream",
          "name": "stdout",
          "text": [
            "Mean Squared Error(MSE): 1.2958646393705395\n"
          ]
        }
      ]
    },
    {
      "cell_type": "markdown",
      "source": [
        "#Visualizing for different models"
      ],
      "metadata": {
        "id": "BitNPLNKu1pv"
      }
    },
    {
      "cell_type": "code",
      "source": [
        "model1 = LinearRegression()\n",
        "visualizer = PredictionError(model1)\n",
        "visualizer.fit(X_train, y_train)  \n",
        "visualizer.score(X_test, y_test)  \n",
        "visualizer.poof()\n",
        "print(a)"
      ],
      "metadata": {
        "colab": {
          "base_uri": "https://localhost:8080/",
          "height": 395
        },
        "id": "b8qN_V4FuT2f",
        "outputId": "0bb2f4d5-7172-46bc-e6f0-66d4f597b646"
      },
      "execution_count": null,
      "outputs": [
        {
          "output_type": "display_data",
          "data": {
            "image/png": "[encoded data removed]",
            "text/plain": [
              "<Figure size 576x396 with 1 Axes>"
            ]
          },
          "metadata": {}
        },
        {
          "output_type": "stream",
          "name": "stdout",
          "text": [
            "2.3160445331505077e-25\n"
          ]
        }
      ]
    },
    {
      "cell_type": "code",
      "source": [
        "model2 = Lasso()\n",
        "visualizer = PredictionError(model2)\n",
        "visualizer.fit(X_train, y_train)  \n",
        "visualizer.score(X_test, y_test)  \n",
        "visualizer.poof()\n",
        "print(b)"
      ],
      "metadata": {
        "id": "heC1zMLsW-9C",
        "colab": {
          "base_uri": "https://localhost:8080/",
          "height": 395
        },
        "outputId": "42dc190f-f29d-470a-bf86-53a05a4b8841"
      },
      "execution_count": null,
      "outputs": [
        {
          "output_type": "display_data",
          "data": {
            "image/png": "[encoded data removed]",
            "text/plain": [
              "<Figure size 576x396 with 1 Axes>"
            ]
          },
          "metadata": {}
        },
        {
          "output_type": "stream",
          "name": "stdout",
          "text": [
            "0.0028720894211499343\n"
          ]
        }
      ]
    },
    {
      "cell_type": "code",
      "source": [
        "model3 = Ridge()\n",
        "visualizer = PredictionError(model3)\n",
        "visualizer.fit(X_train, y_train)  \n",
        "visualizer.score(X_test, y_test)  \n",
        "visualizer.poof()"
      ],
      "metadata": {
        "colab": {
          "base_uri": "https://localhost:8080/",
          "height": 395
        },
        "id": "iTvETFApuQ9R",
        "outputId": "4d9b7634-0ad9-4187-ec1b-b609a3864a08"
      },
      "execution_count": null,
      "outputs": [
        {
          "output_type": "display_data",
          "data": {
            "image/png": "[encoded data removed]",
            "text/plain": [
              "<Figure size 576x396 with 1 Axes>"
            ]
          },
          "metadata": {}
        },
        {
          "output_type": "execute_result",
          "data": {
            "text/plain": [
              "<matplotlib.axes._subplots.AxesSubplot at 0x7f13a2ca9990>"
            ]
          },
          "metadata": {},
          "execution_count": 10
        }
      ]
    },
    {
      "cell_type": "code",
      "source": [
        ""
      ],
      "metadata": {
        "id": "cj4fZXCDuu_h"
      },
      "execution_count": null,
      "outputs": []
    }
  ]
}