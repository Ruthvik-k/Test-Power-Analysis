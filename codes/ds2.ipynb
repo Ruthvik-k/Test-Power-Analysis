{
  "cells": [
    {
      "cell_type": "markdown",
      "id": "62f54a0e",
      "metadata": {
        "id": "62f54a0e"
      },
      "source": [
        "## IMPORTING LIBRARIES"
      ]
    },
    {
      "cell_type": "code",
      "source": [
        "from google.colab import drive\n",
        "drive.mount('/content/drive')"
      ],
      "metadata": {
        "colab": {
          "base_uri": "https://localhost:8080/"
        },
        "id": "AI9bao7pNuDU",
        "outputId": "5dbda13f-f8fb-49af-afd4-4b40f38ffff9"
      },
      "id": "AI9bao7pNuDU",
      "execution_count": null,
      "outputs": [
        {
          "output_type": "stream",
          "name": "stdout",
          "text": [
            "Drive already mounted at /content/drive; to attempt to forcibly remount, call drive.mount(\"/content/drive\", force_remount=True).\n"
          ]
        }
      ]
    },
    {
      "cell_type": "code",
      "execution_count": null,
      "id": "34aa8a43",
      "metadata": {
        "id": "34aa8a43"
      },
      "outputs": [],
      "source": [
        "import numpy as np\n",
        "import matplotlib.pyplot as plt\n",
        "import pandas as pd\n",
        "import seaborn as sb"
      ]
    },
    {
      "cell_type": "code",
      "execution_count": null,
      "id": "8dfc276d",
      "metadata": {
        "id": "8dfc276d"
      },
      "outputs": [],
      "source": [
        "from sklearn.linear_model import LinearRegression\n",
        "from sklearn.metrics import mean_squared_error as MSE\n",
        "from sklearn.linear_model import Ridge\n",
        "from sklearn.neighbors import KNeighborsRegressor\n",
        "from sklearn.neural_network import MLPRegressor\n",
        "from sklearn.ensemble import RandomForestRegressor"
      ]
    },
    {
      "cell_type": "markdown",
      "id": "a172d884",
      "metadata": {
        "id": "a172d884"
      },
      "source": [
        "## IMPORTING DATASET"
      ]
    },
    {
      "cell_type": "code",
      "execution_count": null,
      "id": "a513f2f8",
      "metadata": {
        "colab": {
          "base_uri": "https://localhost:8080/",
          "height": 423
        },
        "id": "a513f2f8",
        "outputId": "9d2ed4db-74f0-458d-dac4-8aa9ef4191df"
      },
      "outputs": [
        {
          "output_type": "execute_result",
          "data": {
            "text/plain": [
              "      Unnamed: 0  Number of gates  Number of flops  Number of Test Vectors  \\\n",
              "0              0              695              283                       3   \n",
              "1              1              755              289                       5   \n",
              "2              2              765              289                       5   \n",
              "3              3              805              295                       6   \n",
              "4              4              805              294                       7   \n",
              "...          ...              ...              ...                     ...   \n",
              "5627        5627              775              289                       4   \n",
              "5628        5628              910              299                       5   \n",
              "5629        5629              825              289                       3   \n",
              "5630        5630              835              294                       4   \n",
              "5631        5631              865              297                       5   \n",
              "\n",
              "      Equivalent Area of Block  Test Power(in uJoules)  \n",
              "0                          576              694.915209  \n",
              "1                          976              699.192675  \n",
              "2                         1036              697.822985  \n",
              "3                         1176              709.831915  \n",
              "4                         1176              707.501416  \n",
              "...                        ...                     ...  \n",
              "5627                       976              700.733356  \n",
              "5628                      1626              711.156631  \n",
              "5629                      1226              695.672885  \n",
              "5630                      1256              706.976219  \n",
              "5631                      1376              711.963048  \n",
              "\n",
              "[5632 rows x 6 columns]"
            ],
            "text/html": [
              "\n",
              "  <div id=\"df-4ffd6e25-19bb-47e0-81c4-ac2ca6b0e836\">\n",
              "    <div class=\"colab-df-container\">\n",
              "      <div>\n",
              "<style scoped>\n",
              "    .dataframe tbody tr th:only-of-type {\n",
              "        vertical-align: middle;\n",
              "    }\n",
              "\n",
              "    .dataframe tbody tr th {\n",
              "        vertical-align: top;\n",
              "    }\n",
              "\n",
              "    .dataframe thead th {\n",
              "        text-align: right;\n",
              "    }\n",
              "</style>\n",
              "<table border=\"1\" class=\"dataframe\">\n",
              "  <thead>\n",
              "    <tr style=\"text-align: right;\">\n",
              "      <th></th>\n",
              "      <th>Unnamed: 0</th>\n",
              "      <th>Number of gates</th>\n",
              "      <th>Number of flops</th>\n",
              "      <th>Number of Test Vectors</th>\n",
              "      <th>Equivalent Area of Block</th>\n",
              "      <th>Test Power(in uJoules)</th>\n",
              "    </tr>\n",
              "  </thead>\n",
              "  <tbody>\n",
              "    <tr>\n",
              "      <th>0</th>\n",
              "      <td>0</td>\n",
              "      <td>695</td>\n",
              "      <td>283</td>\n",
              "      <td>3</td>\n",
              "      <td>576</td>\n",
              "      <td>694.915209</td>\n",
              "    </tr>\n",
              "    <tr>\n",
              "      <th>1</th>\n",
              "      <td>1</td>\n",
              "      <td>755</td>\n",
              "      <td>289</td>\n",
              "      <td>5</td>\n",
              "      <td>976</td>\n",
              "      <td>699.192675</td>\n",
              "    </tr>\n",
              "    <tr>\n",
              "      <th>2</th>\n",
              "      <td>2</td>\n",
              "      <td>765</td>\n",
              "      <td>289</td>\n",
              "      <td>5</td>\n",
              "      <td>1036</td>\n",
              "      <td>697.822985</td>\n",
              "    </tr>\n",
              "    <tr>\n",
              "      <th>3</th>\n",
              "      <td>3</td>\n",
              "      <td>805</td>\n",
              "      <td>295</td>\n",
              "      <td>6</td>\n",
              "      <td>1176</td>\n",
              "      <td>709.831915</td>\n",
              "    </tr>\n",
              "    <tr>\n",
              "      <th>4</th>\n",
              "      <td>4</td>\n",
              "      <td>805</td>\n",
              "      <td>294</td>\n",
              "      <td>7</td>\n",
              "      <td>1176</td>\n",
              "      <td>707.501416</td>\n",
              "    </tr>\n",
              "    <tr>\n",
              "      <th>...</th>\n",
              "      <td>...</td>\n",
              "      <td>...</td>\n",
              "      <td>...</td>\n",
              "      <td>...</td>\n",
              "      <td>...</td>\n",
              "      <td>...</td>\n",
              "    </tr>\n",
              "    <tr>\n",
              "      <th>5627</th>\n",
              "      <td>5627</td>\n",
              "      <td>775</td>\n",
              "      <td>289</td>\n",
              "      <td>4</td>\n",
              "      <td>976</td>\n",
              "      <td>700.733356</td>\n",
              "    </tr>\n",
              "    <tr>\n",
              "      <th>5628</th>\n",
              "      <td>5628</td>\n",
              "      <td>910</td>\n",
              "      <td>299</td>\n",
              "      <td>5</td>\n",
              "      <td>1626</td>\n",
              "      <td>711.156631</td>\n",
              "    </tr>\n",
              "    <tr>\n",
              "      <th>5629</th>\n",
              "      <td>5629</td>\n",
              "      <td>825</td>\n",
              "      <td>289</td>\n",
              "      <td>3</td>\n",
              "      <td>1226</td>\n",
              "      <td>695.672885</td>\n",
              "    </tr>\n",
              "    <tr>\n",
              "      <th>5630</th>\n",
              "      <td>5630</td>\n",
              "      <td>835</td>\n",
              "      <td>294</td>\n",
              "      <td>4</td>\n",
              "      <td>1256</td>\n",
              "      <td>706.976219</td>\n",
              "    </tr>\n",
              "    <tr>\n",
              "      <th>5631</th>\n",
              "      <td>5631</td>\n",
              "      <td>865</td>\n",
              "      <td>297</td>\n",
              "      <td>5</td>\n",
              "      <td>1376</td>\n",
              "      <td>711.963048</td>\n",
              "    </tr>\n",
              "  </tbody>\n",
              "</table>\n",
              "<p>5632 rows × 6 columns</p>\n",
              "</div>\n",
              "      <button class=\"colab-df-convert\" onclick=\"convertToInteractive('df-4ffd6e25-19bb-47e0-81c4-ac2ca6b0e836')\"\n",
              "              title=\"Convert this dataframe to an interactive table.\"\n",
              "              style=\"display:none;\">\n",
              "        \n",
              "  <svg xmlns=\"http://www.w3.org/2000/svg\" height=\"24px\"viewBox=\"0 0 24 24\"\n",
              "       width=\"24px\">\n",
              "    <path d=\"M0 0h24v24H0V0z\" fill=\"none\"/>\n",
              "    <path d=\"M18.56 5.44l.94 2.06.94-2.06 2.06-.94-2.06-.94-.94-2.06-.94 2.06-2.06.94zm-11 1L8.5 8.5l.94-2.06 2.06-.94-2.06-.94L8.5 2.5l-.94 2.06-2.06.94zm10 10l.94 2.06.94-2.06 2.06-.94-2.06-.94-.94-2.06-.94 2.06-2.06.94z\"/><path d=\"M17.41 7.96l-1.37-1.37c-.4-.4-.92-.59-1.43-.59-.52 0-1.04.2-1.43.59L10.3 9.45l-7.72 7.72c-.78.78-.78 2.05 0 2.83L4 21.41c.39.39.9.59 1.41.59.51 0 1.02-.2 1.41-.59l7.78-7.78 2.81-2.81c.8-.78.8-2.07 0-2.86zM5.41 20L4 18.59l7.72-7.72 1.47 1.35L5.41 20z\"/>\n",
              "  </svg>\n",
              "      </button>\n",
              "      \n",
              "  <style>\n",
              "    .colab-df-container {\n",
              "      display:flex;\n",
              "      flex-wrap:wrap;\n",
              "      gap: 12px;\n",
              "    }\n",
              "\n",
              "    .colab-df-convert {\n",
              "      background-color: #E8F0FE;\n",
              "      border: none;\n",
              "      border-radius: 50%;\n",
              "      cursor: pointer;\n",
              "      display: none;\n",
              "      fill: #1967D2;\n",
              "      height: 32px;\n",
              "      padding: 0 0 0 0;\n",
              "      width: 32px;\n",
              "    }\n",
              "\n",
              "    .colab-df-convert:hover {\n",
              "      background-color: #E2EBFA;\n",
              "      box-shadow: 0px 1px 2px rgba(60, 64, 67, 0.3), 0px 1px 3px 1px rgba(60, 64, 67, 0.15);\n",
              "      fill: #174EA6;\n",
              "    }\n",
              "\n",
              "    [theme=dark] .colab-df-convert {\n",
              "      background-color: #3B4455;\n",
              "      fill: #D2E3FC;\n",
              "    }\n",
              "\n",
              "    [theme=dark] .colab-df-convert:hover {\n",
              "      background-color: #434B5C;\n",
              "      box-shadow: 0px 1px 3px 1px rgba(0, 0, 0, 0.15);\n",
              "      filter: drop-shadow(0px 1px 2px rgba(0, 0, 0, 0.3));\n",
              "      fill: #FFFFFF;\n",
              "    }\n",
              "  </style>\n",
              "\n",
              "      <script>\n",
              "        const buttonEl =\n",
              "          document.querySelector('#df-4ffd6e25-19bb-47e0-81c4-ac2ca6b0e836 button.colab-df-convert');\n",
              "        buttonEl.style.display =\n",
              "          google.colab.kernel.accessAllowed ? 'block' : 'none';\n",
              "\n",
              "        async function convertToInteractive(key) {\n",
              "          const element = document.querySelector('#df-4ffd6e25-19bb-47e0-81c4-ac2ca6b0e836');\n",
              "          const dataTable =\n",
              "            await google.colab.kernel.invokeFunction('convertToInteractive',\n",
              "                                                     [key], {});\n",
              "          if (!dataTable) return;\n",
              "\n",
              "          const docLinkHtml = 'Like what you see? Visit the ' +\n",
              "            '<a target=\"_blank\" href=https://colab.research.google.com/notebooks/data_table.ipynb>data table notebook</a>'\n",
              "            + ' to learn more about interactive tables.';\n",
              "          element.innerHTML = '';\n",
              "          dataTable['output_type'] = 'display_data';\n",
              "          await google.colab.output.renderOutput(dataTable, element);\n",
              "          const docLink = document.createElement('div');\n",
              "          docLink.innerHTML = docLinkHtml;\n",
              "          element.appendChild(docLink);\n",
              "        }\n",
              "      </script>\n",
              "    </div>\n",
              "  </div>\n",
              "  "
            ]
          },
          "metadata": {},
          "execution_count": 30
        }
      ],
      "source": [
        "dataset = pd.read_csv('/content/drive/MyDrive/Design Credits/final_data.csv')\n",
        "dataset"
      ]
    },
    {
      "cell_type": "code",
      "execution_count": null,
      "id": "2117adb2",
      "metadata": {
        "id": "2117adb2"
      },
      "outputs": [],
      "source": [
        "x = dataset.iloc[:, 1:-1].values\n",
        "y = dataset.iloc[:, -1].values"
      ]
    },
    {
      "cell_type": "code",
      "source": [
        "dataset1 = dataset.drop(labels = [\"Unnamed: 0\"],axis=1)\n",
        "sb.heatmap(dataset1.corr(), cmap=\"YlGnBu\", annot=True)"
      ],
      "metadata": {
        "colab": {
          "base_uri": "https://localhost:8080/",
          "height": 398
        },
        "id": "gZM8LSqAUqtB",
        "outputId": "fffb2bcd-fa36-4df1-e8b4-69148c3ce75f"
      },
      "id": "gZM8LSqAUqtB",
      "execution_count": null,
      "outputs": [
        {
          "output_type": "execute_result",
          "data": {
            "text/plain": [
              "<matplotlib.axes._subplots.AxesSubplot at 0x7fb67dd3e5d0>"
            ]
          },
          "metadata": {},
          "execution_count": 49
        },
        {
          "output_type": "display_data",
          "data": {
            "text/plain": [
              "<Figure size 432x288 with 2 Axes>"
            ],
            "image/png": "[encoded data removed]"
          },
          "metadata": {
            "needs_background": "light"
          }
        }
      ]
    },
    {
      "cell_type": "code",
      "execution_count": null,
      "id": "f63092aa",
      "metadata": {
        "colab": {
          "base_uri": "https://localhost:8080/",
          "height": 269
        },
        "id": "f63092aa",
        "outputId": "a5016985-d7ef-4522-be06-b8d6c6a377e4"
      },
      "outputs": [
        {
          "output_type": "display_data",
          "data": {
            "text/plain": [
              "<Figure size 432x288 with 1 Axes>"
            ],
            "image/png": "[encoded data removed]"
          },
          "metadata": {
            "needs_background": "light"
          }
        }
      ],
      "source": [
        "plt.scatter(dataset.iloc[:,1],y,color = 'red')\n",
        "plt.scatter(dataset.iloc[:,2],y,color = 'blue')\n",
        "plt.scatter(dataset.iloc[:,3],y,color = 'green')\n",
        "plt.scatter(dataset.iloc[:,4],y,color = 'purple')\n",
        "\n",
        "\n",
        "plt.show()"
      ]
    },
    {
      "cell_type": "markdown",
      "id": "fec85dcc",
      "metadata": {
        "id": "fec85dcc"
      },
      "source": [
        "## Splitting into training and testing sets"
      ]
    },
    {
      "cell_type": "code",
      "execution_count": null,
      "id": "c8cf987a",
      "metadata": {
        "id": "c8cf987a"
      },
      "outputs": [],
      "source": [
        "from sklearn.model_selection import train_test_split\n",
        "x_train, x_test, y_train, y_test = train_test_split(x, y, test_size = 0.3, random_state=1)"
      ]
    },
    {
      "cell_type": "code",
      "source": [
        "MSE_list = dict()"
      ],
      "metadata": {
        "id": "4mKofestQR5w"
      },
      "id": "4mKofestQR5w",
      "execution_count": null,
      "outputs": []
    },
    {
      "cell_type": "markdown",
      "id": "6e816908",
      "metadata": {
        "id": "6e816908"
      },
      "source": [
        "## least square regression"
      ]
    },
    {
      "cell_type": "code",
      "execution_count": null,
      "id": "36eebff2",
      "metadata": {
        "id": "36eebff2"
      },
      "outputs": [],
      "source": [
        "reg = LinearRegression()\n",
        "reg.fit(x_train,y_train)\n",
        "y_pred = reg.predict(x_test)\n",
        "MSE_list[\"linear regression\"] = MSE(y_pred,y_test)"
      ]
    },
    {
      "cell_type": "code",
      "execution_count": null,
      "id": "2e921fa4",
      "metadata": {
        "colab": {
          "base_uri": "https://localhost:8080/"
        },
        "id": "2e921fa4",
        "outputId": "ebb95600-1b74-4262-8d94-6ed168831505"
      },
      "outputs": [
        {
          "output_type": "stream",
          "name": "stdout",
          "text": [
            "9.642282880056003e-26\n"
          ]
        }
      ],
      "source": [
        "print(MSE(y_pred,y_test))"
      ]
    },
    {
      "cell_type": "markdown",
      "id": "098922f7",
      "metadata": {
        "id": "098922f7"
      },
      "source": [
        "## Ridge regression"
      ]
    },
    {
      "cell_type": "code",
      "execution_count": null,
      "id": "4dbc1811",
      "metadata": {
        "id": "4dbc1811"
      },
      "outputs": [],
      "source": [
        "reg_ridge = Ridge(alpha = 1)\n",
        "reg_ridge.fit(x_train,y_train)\n",
        "y_pred_ridge = reg_ridge.predict(x_test)\n",
        "MSE_list[\"ridge regression\"] = MSE(y_pred_ridge,y_test)"
      ]
    },
    {
      "cell_type": "code",
      "execution_count": null,
      "id": "32a58250",
      "metadata": {
        "colab": {
          "base_uri": "https://localhost:8080/"
        },
        "id": "32a58250",
        "outputId": "e7385385-7059-4a1d-ea9b-dc6e3bb54fb1"
      },
      "outputs": [
        {
          "output_type": "stream",
          "name": "stdout",
          "text": [
            "1.2483856549422917e-07\n"
          ]
        }
      ],
      "source": [
        "print(MSE(y_pred_ridge,y_test))"
      ]
    },
    {
      "cell_type": "markdown",
      "id": "a30cbff7",
      "metadata": {
        "id": "a30cbff7"
      },
      "source": [
        "## Nearest neighbour regression"
      ]
    },
    {
      "cell_type": "code",
      "execution_count": null,
      "id": "14a60049",
      "metadata": {
        "id": "14a60049"
      },
      "outputs": [],
      "source": [
        "neigh = KNeighborsRegressor(n_neighbors=3)\n",
        "neigh.fit(x_train,y_train)\n",
        "y_pred_knn = neigh.predict(x_test)\n",
        "MSE_list[\"KNN\"] = MSE(y_pred_knn,y_test)"
      ]
    },
    {
      "cell_type": "code",
      "execution_count": null,
      "id": "86381f46",
      "metadata": {
        "colab": {
          "base_uri": "https://localhost:8080/"
        },
        "id": "86381f46",
        "outputId": "786d5eb3-de71-409e-901b-276cb3ec3f7b"
      },
      "outputs": [
        {
          "output_type": "stream",
          "name": "stdout",
          "text": [
            "3.4873738842842146e-27\n"
          ]
        }
      ],
      "source": [
        "print(MSE(y_pred_knn,y_test))"
      ]
    },
    {
      "cell_type": "markdown",
      "id": "3661b95d",
      "metadata": {
        "id": "3661b95d"
      },
      "source": [
        "## Neural network regression "
      ]
    },
    {
      "cell_type": "code",
      "execution_count": null,
      "id": "6bc081b8",
      "metadata": {
        "id": "6bc081b8"
      },
      "outputs": [],
      "source": [
        "reg_nnr = MLPRegressor(random_state=1,max_iter = 2000)\n",
        "reg_nnr.fit(x_train,y_train)\n",
        "y_predict_nnr = reg_nnr.predict(x_test)\n",
        "MSE_list[\"neural network regression\"] = MSE(y_predict_nnr,y_test)"
      ]
    },
    {
      "cell_type": "code",
      "execution_count": null,
      "id": "d1541ff5",
      "metadata": {
        "colab": {
          "base_uri": "https://localhost:8080/"
        },
        "id": "d1541ff5",
        "outputId": "90811f0d-d67f-4919-f698-19cfabe1b020"
      },
      "outputs": [
        {
          "output_type": "stream",
          "name": "stdout",
          "text": [
            "0.37898858959850545\n"
          ]
        }
      ],
      "source": [
        "print(MSE(y_predict_nnr,y_test))"
      ]
    },
    {
      "cell_type": "code",
      "execution_count": null,
      "id": "a2e6bf53",
      "metadata": {
        "colab": {
          "base_uri": "https://localhost:8080/",
          "height": 174
        },
        "id": "a2e6bf53",
        "outputId": "9061ce1c-6d06-4afd-e825-643701141da0"
      },
      "outputs": [
        {
          "output_type": "execute_result",
          "data": {
            "text/plain": [
              "                      Models           MSE\n",
              "0          linear regression  9.642283e-26\n",
              "1           ridge regression  1.248386e-07\n",
              "2                        KNN  3.487374e-27\n",
              "3  neural network regression  3.789886e-01"
            ],
            "text/html": [
              "\n",
              "  <div id=\"df-d38552b8-2bda-48ea-bcd0-6ca4a24ac9ce\">\n",
              "    <div class=\"colab-df-container\">\n",
              "      <div>\n",
              "<style scoped>\n",
              "    .dataframe tbody tr th:only-of-type {\n",
              "        vertical-align: middle;\n",
              "    }\n",
              "\n",
              "    .dataframe tbody tr th {\n",
              "        vertical-align: top;\n",
              "    }\n",
              "\n",
              "    .dataframe thead th {\n",
              "        text-align: right;\n",
              "    }\n",
              "</style>\n",
              "<table border=\"1\" class=\"dataframe\">\n",
              "  <thead>\n",
              "    <tr style=\"text-align: right;\">\n",
              "      <th></th>\n",
              "      <th>Models</th>\n",
              "      <th>MSE</th>\n",
              "    </tr>\n",
              "  </thead>\n",
              "  <tbody>\n",
              "    <tr>\n",
              "      <th>0</th>\n",
              "      <td>linear regression</td>\n",
              "      <td>9.642283e-26</td>\n",
              "    </tr>\n",
              "    <tr>\n",
              "      <th>1</th>\n",
              "      <td>ridge regression</td>\n",
              "      <td>1.248386e-07</td>\n",
              "    </tr>\n",
              "    <tr>\n",
              "      <th>2</th>\n",
              "      <td>KNN</td>\n",
              "      <td>3.487374e-27</td>\n",
              "    </tr>\n",
              "    <tr>\n",
              "      <th>3</th>\n",
              "      <td>neural network regression</td>\n",
              "      <td>3.789886e-01</td>\n",
              "    </tr>\n",
              "  </tbody>\n",
              "</table>\n",
              "</div>\n",
              "      <button class=\"colab-df-convert\" onclick=\"convertToInteractive('df-d38552b8-2bda-48ea-bcd0-6ca4a24ac9ce')\"\n",
              "              title=\"Convert this dataframe to an interactive table.\"\n",
              "              style=\"display:none;\">\n",
              "        \n",
              "  <svg xmlns=\"http://www.w3.org/2000/svg\" height=\"24px\"viewBox=\"0 0 24 24\"\n",
              "       width=\"24px\">\n",
              "    <path d=\"M0 0h24v24H0V0z\" fill=\"none\"/>\n",
              "    <path d=\"M18.56 5.44l.94 2.06.94-2.06 2.06-.94-2.06-.94-.94-2.06-.94 2.06-2.06.94zm-11 1L8.5 8.5l.94-2.06 2.06-.94-2.06-.94L8.5 2.5l-.94 2.06-2.06.94zm10 10l.94 2.06.94-2.06 2.06-.94-2.06-.94-.94-2.06-.94 2.06-2.06.94z\"/><path d=\"M17.41 7.96l-1.37-1.37c-.4-.4-.92-.59-1.43-.59-.52 0-1.04.2-1.43.59L10.3 9.45l-7.72 7.72c-.78.78-.78 2.05 0 2.83L4 21.41c.39.39.9.59 1.41.59.51 0 1.02-.2 1.41-.59l7.78-7.78 2.81-2.81c.8-.78.8-2.07 0-2.86zM5.41 20L4 18.59l7.72-7.72 1.47 1.35L5.41 20z\"/>\n",
              "  </svg>\n",
              "      </button>\n",
              "      \n",
              "  <style>\n",
              "    .colab-df-container {\n",
              "      display:flex;\n",
              "      flex-wrap:wrap;\n",
              "      gap: 12px;\n",
              "    }\n",
              "\n",
              "    .colab-df-convert {\n",
              "      background-color: #E8F0FE;\n",
              "      border: none;\n",
              "      border-radius: 50%;\n",
              "      cursor: pointer;\n",
              "      display: none;\n",
              "      fill: #1967D2;\n",
              "      height: 32px;\n",
              "      padding: 0 0 0 0;\n",
              "      width: 32px;\n",
              "    }\n",
              "\n",
              "    .colab-df-convert:hover {\n",
              "      background-color: #E2EBFA;\n",
              "      box-shadow: 0px 1px 2px rgba(60, 64, 67, 0.3), 0px 1px 3px 1px rgba(60, 64, 67, 0.15);\n",
              "      fill: #174EA6;\n",
              "    }\n",
              "\n",
              "    [theme=dark] .colab-df-convert {\n",
              "      background-color: #3B4455;\n",
              "      fill: #D2E3FC;\n",
              "    }\n",
              "\n",
              "    [theme=dark] .colab-df-convert:hover {\n",
              "      background-color: #434B5C;\n",
              "      box-shadow: 0px 1px 3px 1px rgba(0, 0, 0, 0.15);\n",
              "      filter: drop-shadow(0px 1px 2px rgba(0, 0, 0, 0.3));\n",
              "      fill: #FFFFFF;\n",
              "    }\n",
              "  </style>\n",
              "\n",
              "      <script>\n",
              "        const buttonEl =\n",
              "          document.querySelector('#df-d38552b8-2bda-48ea-bcd0-6ca4a24ac9ce button.colab-df-convert');\n",
              "        buttonEl.style.display =\n",
              "          google.colab.kernel.accessAllowed ? 'block' : 'none';\n",
              "\n",
              "        async function convertToInteractive(key) {\n",
              "          const element = document.querySelector('#df-d38552b8-2bda-48ea-bcd0-6ca4a24ac9ce');\n",
              "          const dataTable =\n",
              "            await google.colab.kernel.invokeFunction('convertToInteractive',\n",
              "                                                     [key], {});\n",
              "          if (!dataTable) return;\n",
              "\n",
              "          const docLinkHtml = 'Like what you see? Visit the ' +\n",
              "            '<a target=\"_blank\" href=https://colab.research.google.com/notebooks/data_table.ipynb>data table notebook</a>'\n",
              "            + ' to learn more about interactive tables.';\n",
              "          element.innerHTML = '';\n",
              "          dataTable['output_type'] = 'display_data';\n",
              "          await google.colab.output.renderOutput(dataTable, element);\n",
              "          const docLink = document.createElement('div');\n",
              "          docLink.innerHTML = docLinkHtml;\n",
              "          element.appendChild(docLink);\n",
              "        }\n",
              "      </script>\n",
              "    </div>\n",
              "  </div>\n",
              "  "
            ]
          },
          "metadata": {},
          "execution_count": 43
        }
      ],
      "source": [
        "# printing all mse values with models\n",
        "mse = pd.DataFrame({\"Models\" : MSE_list.keys() , \"MSE\" : MSE_list.values()})\n",
        "mse"
      ]
    },
    {
      "cell_type": "code",
      "execution_count": null,
      "id": "ff752bbd",
      "metadata": {
        "id": "ff752bbd"
      },
      "outputs": [],
      "source": [
        "# here since the dataset was made with linear data, the minimum \n",
        "# MSE value we get is from Linear regression"
      ]
    },
    {
      "cell_type": "code",
      "source": [
        ""
      ],
      "metadata": {
        "id": "42YRAy-0QtRC"
      },
      "id": "42YRAy-0QtRC",
      "execution_count": null,
      "outputs": []
    }
  ],
  "metadata": {
    "kernelspec": {
      "display_name": "Python 3 (ipykernel)",
      "language": "python",
      "name": "python3"
    },
    "language_info": {
      "codemirror_mode": {
        "name": "ipython",
        "version": 3
      },
      "file_extension": ".py",
      "mimetype": "text/x-python",
      "name": "python",
      "nbconvert_exporter": "python",
      "pygments_lexer": "ipython3",
      "version": "3.9.7"
    },
    "colab": {
      "name": "ds2.ipynb",
      "provenance": []
    }
  },
  "nbformat": 4,
  "nbformat_minor": 5
}