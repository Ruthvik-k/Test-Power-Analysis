{
  "nbformat": 4,
  "nbformat_minor": 0,
  "metadata": {
    "colab": {
      "name": "ds3.ipynb",
      "provenance": [],
      "collapsed_sections": []
    },
    "kernelspec": {
      "name": "python3",
      "display_name": "Python 3"
    },
    "language_info": {
      "name": "python"
    }
  },
  "cells": [
    {
      "cell_type": "markdown",
      "source": [
        "## Importing libraries"
      ],
      "metadata": {
        "id": "htasTIdslrkk"
      }
    },
    {
      "cell_type": "code",
      "execution_count": null,
      "metadata": {
        "id": "kMQQlCzcldNY"
      },
      "outputs": [],
      "source": [
        "import numpy as numpy\n",
        "import pandas as pd\n",
        "import matplotlib.pyplot as plt\n",
        "import seaborn as sb\n",
        "from sklearn.model_selection import train_test_split\n",
        "from sklearn.preprocessing import StandardScaler\n",
        "\n",
        "# models \n",
        "from sklearn.linear_model import LogisticRegression\n",
        "from sklearn.linear_model import Ridge\n",
        "from sklearn.neighbors import KNeighborsRegressor\n",
        "from sklearn.neural_network import MLPRegressor\n",
        "from sklearn.ensemble import RandomForestRegressor\n",
        "from sklearn.tree import DecisionTreeRegressor\n",
        "from sklearn.ensemble import RandomForestRegressor\n",
        "\n",
        "from sklearn.metrics import mean_squared_error as MSE\n",
        "\n",
        "import warnings\n",
        "warnings.filterwarnings(\"ignore\")"
      ]
    },
    {
      "cell_type": "code",
      "source": [
        "from google.colab import drive\n",
        "drive.mount('/content/drive')"
      ],
      "metadata": {
        "id": "xTXLtcNDeXqM",
        "colab": {
          "base_uri": "https://localhost:8080/"
        },
        "outputId": "d52592db-21d0-4fb7-d5cd-947ea84f64af"
      },
      "execution_count": null,
      "outputs": [
        {
          "output_type": "stream",
          "name": "stdout",
          "text": [
            "Mounted at /content/drive\n"
          ]
        }
      ]
    },
    {
      "cell_type": "markdown",
      "source": [
        "## Importing dataset"
      ],
      "metadata": {
        "id": "NlF4S_lil2M0"
      }
    },
    {
      "cell_type": "code",
      "source": [
        "dataset = pd.read_csv(\"/content/drive/MyDrive/Design Credits/DESIGN_CREDIT_DATASET2.txt\",delim_whitespace=\" \")\n",
        "dataset"
      ],
      "metadata": {
        "colab": {
          "base_uri": "https://localhost:8080/",
          "height": 423
        },
        "id": "d1QUmaONl1pD",
        "outputId": "27be243a-bb7f-426c-8107-a90a7b6b7134"
      },
      "execution_count": null,
      "outputs": [
        {
          "output_type": "execute_result",
          "data": {
            "text/plain": [
              "                                                VECTOR  Total-Gates  \\\n",
              "0    0101011111111111111111111111111111111111111111...        447.0   \n",
              "1    1101010111111111111111111111111111111111111111...        439.0   \n",
              "2    1111010101111111111111111111111111111111111111...        426.0   \n",
              "3    1111110101011111111111111111111111111111111111...        534.0   \n",
              "4    1111111101010111111111111111111111111111111111...        458.0   \n",
              "..                                                 ...          ...   \n",
              "221  1111111101010101010101010101010101010101011111...        454.0   \n",
              "222  1111111111010101010101010101010101010101010111...        452.0   \n",
              "223  1111111111110101010101010101010101010101010101...        513.0   \n",
              "224  1111111111111101010101010101010101010101010101...        450.0   \n",
              "225                                                225          NaN   \n",
              "\n",
              "     Test-Power  \n",
              "0          21.0  \n",
              "1          23.0  \n",
              "2          23.0  \n",
              "3          22.0  \n",
              "4          23.0  \n",
              "..          ...  \n",
              "221       114.0  \n",
              "222       116.0  \n",
              "223       115.0  \n",
              "224       116.0  \n",
              "225         NaN  \n",
              "\n",
              "[226 rows x 3 columns]"
            ],
            "text/html": [
              "\n",
              "  <div id=\"df-0969420d-5a43-44db-a4ef-5451793dd031\">\n",
              "    <div class=\"colab-df-container\">\n",
              "      <div>\n",
              "<style scoped>\n",
              "    .dataframe tbody tr th:only-of-type {\n",
              "        vertical-align: middle;\n",
              "    }\n",
              "\n",
              "    .dataframe tbody tr th {\n",
              "        vertical-align: top;\n",
              "    }\n",
              "\n",
              "    .dataframe thead th {\n",
              "        text-align: right;\n",
              "    }\n",
              "</style>\n",
              "<table border=\"1\" class=\"dataframe\">\n",
              "  <thead>\n",
              "    <tr style=\"text-align: right;\">\n",
              "      <th></th>\n",
              "      <th>VECTOR</th>\n",
              "      <th>Total-Gates</th>\n",
              "      <th>Test-Power</th>\n",
              "    </tr>\n",
              "  </thead>\n",
              "  <tbody>\n",
              "    <tr>\n",
              "      <th>0</th>\n",
              "      <td>0101011111111111111111111111111111111111111111...</td>\n",
              "      <td>447.0</td>\n",
              "      <td>21.0</td>\n",
              "    </tr>\n",
              "    <tr>\n",
              "      <th>1</th>\n",
              "      <td>1101010111111111111111111111111111111111111111...</td>\n",
              "      <td>439.0</td>\n",
              "      <td>23.0</td>\n",
              "    </tr>\n",
              "    <tr>\n",
              "      <th>2</th>\n",
              "      <td>1111010101111111111111111111111111111111111111...</td>\n",
              "      <td>426.0</td>\n",
              "      <td>23.0</td>\n",
              "    </tr>\n",
              "    <tr>\n",
              "      <th>3</th>\n",
              "      <td>1111110101011111111111111111111111111111111111...</td>\n",
              "      <td>534.0</td>\n",
              "      <td>22.0</td>\n",
              "    </tr>\n",
              "    <tr>\n",
              "      <th>4</th>\n",
              "      <td>1111111101010111111111111111111111111111111111...</td>\n",
              "      <td>458.0</td>\n",
              "      <td>23.0</td>\n",
              "    </tr>\n",
              "    <tr>\n",
              "      <th>...</th>\n",
              "      <td>...</td>\n",
              "      <td>...</td>\n",
              "      <td>...</td>\n",
              "    </tr>\n",
              "    <tr>\n",
              "      <th>221</th>\n",
              "      <td>1111111101010101010101010101010101010101011111...</td>\n",
              "      <td>454.0</td>\n",
              "      <td>114.0</td>\n",
              "    </tr>\n",
              "    <tr>\n",
              "      <th>222</th>\n",
              "      <td>1111111111010101010101010101010101010101010111...</td>\n",
              "      <td>452.0</td>\n",
              "      <td>116.0</td>\n",
              "    </tr>\n",
              "    <tr>\n",
              "      <th>223</th>\n",
              "      <td>1111111111110101010101010101010101010101010101...</td>\n",
              "      <td>513.0</td>\n",
              "      <td>115.0</td>\n",
              "    </tr>\n",
              "    <tr>\n",
              "      <th>224</th>\n",
              "      <td>1111111111111101010101010101010101010101010101...</td>\n",
              "      <td>450.0</td>\n",
              "      <td>116.0</td>\n",
              "    </tr>\n",
              "    <tr>\n",
              "      <th>225</th>\n",
              "      <td>225</td>\n",
              "      <td>NaN</td>\n",
              "      <td>NaN</td>\n",
              "    </tr>\n",
              "  </tbody>\n",
              "</table>\n",
              "<p>226 rows × 3 columns</p>\n",
              "</div>\n",
              "      <button class=\"colab-df-convert\" onclick=\"convertToInteractive('df-0969420d-5a43-44db-a4ef-5451793dd031')\"\n",
              "              title=\"Convert this dataframe to an interactive table.\"\n",
              "              style=\"display:none;\">\n",
              "        \n",
              "  <svg xmlns=\"http://www.w3.org/2000/svg\" height=\"24px\"viewBox=\"0 0 24 24\"\n",
              "       width=\"24px\">\n",
              "    <path d=\"M0 0h24v24H0V0z\" fill=\"none\"/>\n",
              "    <path d=\"M18.56 5.44l.94 2.06.94-2.06 2.06-.94-2.06-.94-.94-2.06-.94 2.06-2.06.94zm-11 1L8.5 8.5l.94-2.06 2.06-.94-2.06-.94L8.5 2.5l-.94 2.06-2.06.94zm10 10l.94 2.06.94-2.06 2.06-.94-2.06-.94-.94-2.06-.94 2.06-2.06.94z\"/><path d=\"M17.41 7.96l-1.37-1.37c-.4-.4-.92-.59-1.43-.59-.52 0-1.04.2-1.43.59L10.3 9.45l-7.72 7.72c-.78.78-.78 2.05 0 2.83L4 21.41c.39.39.9.59 1.41.59.51 0 1.02-.2 1.41-.59l7.78-7.78 2.81-2.81c.8-.78.8-2.07 0-2.86zM5.41 20L4 18.59l7.72-7.72 1.47 1.35L5.41 20z\"/>\n",
              "  </svg>\n",
              "      </button>\n",
              "      \n",
              "  <style>\n",
              "    .colab-df-container {\n",
              "      display:flex;\n",
              "      flex-wrap:wrap;\n",
              "      gap: 12px;\n",
              "    }\n",
              "\n",
              "    .colab-df-convert {\n",
              "      background-color: #E8F0FE;\n",
              "      border: none;\n",
              "      border-radius: 50%;\n",
              "      cursor: pointer;\n",
              "      display: none;\n",
              "      fill: #1967D2;\n",
              "      height: 32px;\n",
              "      padding: 0 0 0 0;\n",
              "      width: 32px;\n",
              "    }\n",
              "\n",
              "    .colab-df-convert:hover {\n",
              "      background-color: #E2EBFA;\n",
              "      box-shadow: 0px 1px 2px rgba(60, 64, 67, 0.3), 0px 1px 3px 1px rgba(60, 64, 67, 0.15);\n",
              "      fill: #174EA6;\n",
              "    }\n",
              "\n",
              "    [theme=dark] .colab-df-convert {\n",
              "      background-color: #3B4455;\n",
              "      fill: #D2E3FC;\n",
              "    }\n",
              "\n",
              "    [theme=dark] .colab-df-convert:hover {\n",
              "      background-color: #434B5C;\n",
              "      box-shadow: 0px 1px 3px 1px rgba(0, 0, 0, 0.15);\n",
              "      filter: drop-shadow(0px 1px 2px rgba(0, 0, 0, 0.3));\n",
              "      fill: #FFFFFF;\n",
              "    }\n",
              "  </style>\n",
              "\n",
              "      <script>\n",
              "        const buttonEl =\n",
              "          document.querySelector('#df-0969420d-5a43-44db-a4ef-5451793dd031 button.colab-df-convert');\n",
              "        buttonEl.style.display =\n",
              "          google.colab.kernel.accessAllowed ? 'block' : 'none';\n",
              "\n",
              "        async function convertToInteractive(key) {\n",
              "          const element = document.querySelector('#df-0969420d-5a43-44db-a4ef-5451793dd031');\n",
              "          const dataTable =\n",
              "            await google.colab.kernel.invokeFunction('convertToInteractive',\n",
              "                                                     [key], {});\n",
              "          if (!dataTable) return;\n",
              "\n",
              "          const docLinkHtml = 'Like what you see? Visit the ' +\n",
              "            '<a target=\"_blank\" href=https://colab.research.google.com/notebooks/data_table.ipynb>data table notebook</a>'\n",
              "            + ' to learn more about interactive tables.';\n",
              "          element.innerHTML = '';\n",
              "          dataTable['output_type'] = 'display_data';\n",
              "          await google.colab.output.renderOutput(dataTable, element);\n",
              "          const docLink = document.createElement('div');\n",
              "          docLink.innerHTML = docLinkHtml;\n",
              "          element.appendChild(docLink);\n",
              "        }\n",
              "      </script>\n",
              "    </div>\n",
              "  </div>\n",
              "  "
            ]
          },
          "metadata": {},
          "execution_count": 3
        }
      ]
    },
    {
      "cell_type": "code",
      "source": [
        "# dropping last row\n",
        "dataset = dataset.loc[dataset['VECTOR']!='225']"
      ],
      "metadata": {
        "id": "cfr6kWCRnTIO"
      },
      "execution_count": null,
      "outputs": []
    },
    {
      "cell_type": "code",
      "source": [
        "dataset"
      ],
      "metadata": {
        "colab": {
          "base_uri": "https://localhost:8080/",
          "height": 423
        },
        "id": "so2M1A7ZmGck",
        "outputId": "50c6ff0c-17f3-454a-a208-f0d8f5a97b4b"
      },
      "execution_count": null,
      "outputs": [
        {
          "output_type": "execute_result",
          "data": {
            "text/plain": [
              "                                                VECTOR  Total-Gates  \\\n",
              "0    0101011111111111111111111111111111111111111111...        447.0   \n",
              "1    1101010111111111111111111111111111111111111111...        439.0   \n",
              "2    1111010101111111111111111111111111111111111111...        426.0   \n",
              "3    1111110101011111111111111111111111111111111111...        534.0   \n",
              "4    1111111101010111111111111111111111111111111111...        458.0   \n",
              "..                                                 ...          ...   \n",
              "220  1111110101010101010101010101010101010101111111...        451.0   \n",
              "221  1111111101010101010101010101010101010101011111...        454.0   \n",
              "222  1111111111010101010101010101010101010101010111...        452.0   \n",
              "223  1111111111110101010101010101010101010101010101...        513.0   \n",
              "224  1111111111111101010101010101010101010101010101...        450.0   \n",
              "\n",
              "     Test-Power  \n",
              "0          21.0  \n",
              "1          23.0  \n",
              "2          23.0  \n",
              "3          22.0  \n",
              "4          23.0  \n",
              "..          ...  \n",
              "220       114.0  \n",
              "221       114.0  \n",
              "222       116.0  \n",
              "223       115.0  \n",
              "224       116.0  \n",
              "\n",
              "[225 rows x 3 columns]"
            ],
            "text/html": [
              "\n",
              "  <div id=\"df-12a7c1ac-7b1a-426f-a35b-058120612ced\">\n",
              "    <div class=\"colab-df-container\">\n",
              "      <div>\n",
              "<style scoped>\n",
              "    .dataframe tbody tr th:only-of-type {\n",
              "        vertical-align: middle;\n",
              "    }\n",
              "\n",
              "    .dataframe tbody tr th {\n",
              "        vertical-align: top;\n",
              "    }\n",
              "\n",
              "    .dataframe thead th {\n",
              "        text-align: right;\n",
              "    }\n",
              "</style>\n",
              "<table border=\"1\" class=\"dataframe\">\n",
              "  <thead>\n",
              "    <tr style=\"text-align: right;\">\n",
              "      <th></th>\n",
              "      <th>VECTOR</th>\n",
              "      <th>Total-Gates</th>\n",
              "      <th>Test-Power</th>\n",
              "    </tr>\n",
              "  </thead>\n",
              "  <tbody>\n",
              "    <tr>\n",
              "      <th>0</th>\n",
              "      <td>0101011111111111111111111111111111111111111111...</td>\n",
              "      <td>447.0</td>\n",
              "      <td>21.0</td>\n",
              "    </tr>\n",
              "    <tr>\n",
              "      <th>1</th>\n",
              "      <td>1101010111111111111111111111111111111111111111...</td>\n",
              "      <td>439.0</td>\n",
              "      <td>23.0</td>\n",
              "    </tr>\n",
              "    <tr>\n",
              "      <th>2</th>\n",
              "      <td>1111010101111111111111111111111111111111111111...</td>\n",
              "      <td>426.0</td>\n",
              "      <td>23.0</td>\n",
              "    </tr>\n",
              "    <tr>\n",
              "      <th>3</th>\n",
              "      <td>1111110101011111111111111111111111111111111111...</td>\n",
              "      <td>534.0</td>\n",
              "      <td>22.0</td>\n",
              "    </tr>\n",
              "    <tr>\n",
              "      <th>4</th>\n",
              "      <td>1111111101010111111111111111111111111111111111...</td>\n",
              "      <td>458.0</td>\n",
              "      <td>23.0</td>\n",
              "    </tr>\n",
              "    <tr>\n",
              "      <th>...</th>\n",
              "      <td>...</td>\n",
              "      <td>...</td>\n",
              "      <td>...</td>\n",
              "    </tr>\n",
              "    <tr>\n",
              "      <th>220</th>\n",
              "      <td>1111110101010101010101010101010101010101111111...</td>\n",
              "      <td>451.0</td>\n",
              "      <td>114.0</td>\n",
              "    </tr>\n",
              "    <tr>\n",
              "      <th>221</th>\n",
              "      <td>1111111101010101010101010101010101010101011111...</td>\n",
              "      <td>454.0</td>\n",
              "      <td>114.0</td>\n",
              "    </tr>\n",
              "    <tr>\n",
              "      <th>222</th>\n",
              "      <td>1111111111010101010101010101010101010101010111...</td>\n",
              "      <td>452.0</td>\n",
              "      <td>116.0</td>\n",
              "    </tr>\n",
              "    <tr>\n",
              "      <th>223</th>\n",
              "      <td>1111111111110101010101010101010101010101010101...</td>\n",
              "      <td>513.0</td>\n",
              "      <td>115.0</td>\n",
              "    </tr>\n",
              "    <tr>\n",
              "      <th>224</th>\n",
              "      <td>1111111111111101010101010101010101010101010101...</td>\n",
              "      <td>450.0</td>\n",
              "      <td>116.0</td>\n",
              "    </tr>\n",
              "  </tbody>\n",
              "</table>\n",
              "<p>225 rows × 3 columns</p>\n",
              "</div>\n",
              "      <button class=\"colab-df-convert\" onclick=\"convertToInteractive('df-12a7c1ac-7b1a-426f-a35b-058120612ced')\"\n",
              "              title=\"Convert this dataframe to an interactive table.\"\n",
              "              style=\"display:none;\">\n",
              "        \n",
              "  <svg xmlns=\"http://www.w3.org/2000/svg\" height=\"24px\"viewBox=\"0 0 24 24\"\n",
              "       width=\"24px\">\n",
              "    <path d=\"M0 0h24v24H0V0z\" fill=\"none\"/>\n",
              "    <path d=\"M18.56 5.44l.94 2.06.94-2.06 2.06-.94-2.06-.94-.94-2.06-.94 2.06-2.06.94zm-11 1L8.5 8.5l.94-2.06 2.06-.94-2.06-.94L8.5 2.5l-.94 2.06-2.06.94zm10 10l.94 2.06.94-2.06 2.06-.94-2.06-.94-.94-2.06-.94 2.06-2.06.94z\"/><path d=\"M17.41 7.96l-1.37-1.37c-.4-.4-.92-.59-1.43-.59-.52 0-1.04.2-1.43.59L10.3 9.45l-7.72 7.72c-.78.78-.78 2.05 0 2.83L4 21.41c.39.39.9.59 1.41.59.51 0 1.02-.2 1.41-.59l7.78-7.78 2.81-2.81c.8-.78.8-2.07 0-2.86zM5.41 20L4 18.59l7.72-7.72 1.47 1.35L5.41 20z\"/>\n",
              "  </svg>\n",
              "      </button>\n",
              "      \n",
              "  <style>\n",
              "    .colab-df-container {\n",
              "      display:flex;\n",
              "      flex-wrap:wrap;\n",
              "      gap: 12px;\n",
              "    }\n",
              "\n",
              "    .colab-df-convert {\n",
              "      background-color: #E8F0FE;\n",
              "      border: none;\n",
              "      border-radius: 50%;\n",
              "      cursor: pointer;\n",
              "      display: none;\n",
              "      fill: #1967D2;\n",
              "      height: 32px;\n",
              "      padding: 0 0 0 0;\n",
              "      width: 32px;\n",
              "    }\n",
              "\n",
              "    .colab-df-convert:hover {\n",
              "      background-color: #E2EBFA;\n",
              "      box-shadow: 0px 1px 2px rgba(60, 64, 67, 0.3), 0px 1px 3px 1px rgba(60, 64, 67, 0.15);\n",
              "      fill: #174EA6;\n",
              "    }\n",
              "\n",
              "    [theme=dark] .colab-df-convert {\n",
              "      background-color: #3B4455;\n",
              "      fill: #D2E3FC;\n",
              "    }\n",
              "\n",
              "    [theme=dark] .colab-df-convert:hover {\n",
              "      background-color: #434B5C;\n",
              "      box-shadow: 0px 1px 3px 1px rgba(0, 0, 0, 0.15);\n",
              "      filter: drop-shadow(0px 1px 2px rgba(0, 0, 0, 0.3));\n",
              "      fill: #FFFFFF;\n",
              "    }\n",
              "  </style>\n",
              "\n",
              "      <script>\n",
              "        const buttonEl =\n",
              "          document.querySelector('#df-12a7c1ac-7b1a-426f-a35b-058120612ced button.colab-df-convert');\n",
              "        buttonEl.style.display =\n",
              "          google.colab.kernel.accessAllowed ? 'block' : 'none';\n",
              "\n",
              "        async function convertToInteractive(key) {\n",
              "          const element = document.querySelector('#df-12a7c1ac-7b1a-426f-a35b-058120612ced');\n",
              "          const dataTable =\n",
              "            await google.colab.kernel.invokeFunction('convertToInteractive',\n",
              "                                                     [key], {});\n",
              "          if (!dataTable) return;\n",
              "\n",
              "          const docLinkHtml = 'Like what you see? Visit the ' +\n",
              "            '<a target=\"_blank\" href=https://colab.research.google.com/notebooks/data_table.ipynb>data table notebook</a>'\n",
              "            + ' to learn more about interactive tables.';\n",
              "          element.innerHTML = '';\n",
              "          dataTable['output_type'] = 'display_data';\n",
              "          await google.colab.output.renderOutput(dataTable, element);\n",
              "          const docLink = document.createElement('div');\n",
              "          docLink.innerHTML = docLinkHtml;\n",
              "          element.appendChild(docLink);\n",
              "        }\n",
              "      </script>\n",
              "    </div>\n",
              "  </div>\n",
              "  "
            ]
          },
          "metadata": {},
          "execution_count": 5
        }
      ]
    },
    {
      "cell_type": "code",
      "source": [
        "switches = []\n",
        "for i in range(len(dataset)):\n",
        "  count=0\n",
        "  for j in range(len(dataset[\"VECTOR\"][i])-1):\n",
        "    if (dataset[\"VECTOR\"][i][j] == '1' and dataset[\"VECTOR\"][i][j+1] == '0'):\n",
        "      count = count+1\n",
        "    if (dataset[\"VECTOR\"][i][j] == '0' and dataset[\"VECTOR\"][i][j+1] == '1'):\n",
        "      count = count+1\n",
        "  switches.append(count)"
      ],
      "metadata": {
        "id": "yJryWsZ5ieIE"
      },
      "execution_count": null,
      "outputs": []
    },
    {
      "cell_type": "code",
      "source": [
        "# dataset['switches'] = switches\n",
        "idx = 1\n",
        "dataset.insert(loc=idx, column='Switch', value=switches)\n",
        "dataset"
      ],
      "metadata": {
        "colab": {
          "base_uri": "https://localhost:8080/",
          "height": 423
        },
        "id": "sfTMeXvTi01i",
        "outputId": "d66c74e4-601c-4127-961f-d06674772cee"
      },
      "execution_count": null,
      "outputs": [
        {
          "output_type": "execute_result",
          "data": {
            "text/plain": [
              "                                                VECTOR  Switch  Total-Gates  \\\n",
              "0    0101011111111111111111111111111111111111111111...       5        447.0   \n",
              "1    1101010111111111111111111111111111111111111111...       6        439.0   \n",
              "2    1111010101111111111111111111111111111111111111...       6        426.0   \n",
              "3    1111110101011111111111111111111111111111111111...       6        534.0   \n",
              "4    1111111101010111111111111111111111111111111111...       6        458.0   \n",
              "..                                                 ...     ...          ...   \n",
              "220  1111110101010101010101010101010101010101111111...      34        451.0   \n",
              "221  1111111101010101010101010101010101010101011111...      34        454.0   \n",
              "222  1111111111010101010101010101010101010101010111...      34        452.0   \n",
              "223  1111111111110101010101010101010101010101010101...      34        513.0   \n",
              "224  1111111111111101010101010101010101010101010101...      34        450.0   \n",
              "\n",
              "     Test-Power  \n",
              "0          21.0  \n",
              "1          23.0  \n",
              "2          23.0  \n",
              "3          22.0  \n",
              "4          23.0  \n",
              "..          ...  \n",
              "220       114.0  \n",
              "221       114.0  \n",
              "222       116.0  \n",
              "223       115.0  \n",
              "224       116.0  \n",
              "\n",
              "[225 rows x 4 columns]"
            ],
            "text/html": [
              "\n",
              "  <div id=\"df-5b471a3e-3e70-41c5-ac24-21ad94efa74b\">\n",
              "    <div class=\"colab-df-container\">\n",
              "      <div>\n",
              "<style scoped>\n",
              "    .dataframe tbody tr th:only-of-type {\n",
              "        vertical-align: middle;\n",
              "    }\n",
              "\n",
              "    .dataframe tbody tr th {\n",
              "        vertical-align: top;\n",
              "    }\n",
              "\n",
              "    .dataframe thead th {\n",
              "        text-align: right;\n",
              "    }\n",
              "</style>\n",
              "<table border=\"1\" class=\"dataframe\">\n",
              "  <thead>\n",
              "    <tr style=\"text-align: right;\">\n",
              "      <th></th>\n",
              "      <th>VECTOR</th>\n",
              "      <th>Switch</th>\n",
              "      <th>Total-Gates</th>\n",
              "      <th>Test-Power</th>\n",
              "    </tr>\n",
              "  </thead>\n",
              "  <tbody>\n",
              "    <tr>\n",
              "      <th>0</th>\n",
              "      <td>0101011111111111111111111111111111111111111111...</td>\n",
              "      <td>5</td>\n",
              "      <td>447.0</td>\n",
              "      <td>21.0</td>\n",
              "    </tr>\n",
              "    <tr>\n",
              "      <th>1</th>\n",
              "      <td>1101010111111111111111111111111111111111111111...</td>\n",
              "      <td>6</td>\n",
              "      <td>439.0</td>\n",
              "      <td>23.0</td>\n",
              "    </tr>\n",
              "    <tr>\n",
              "      <th>2</th>\n",
              "      <td>1111010101111111111111111111111111111111111111...</td>\n",
              "      <td>6</td>\n",
              "      <td>426.0</td>\n",
              "      <td>23.0</td>\n",
              "    </tr>\n",
              "    <tr>\n",
              "      <th>3</th>\n",
              "      <td>1111110101011111111111111111111111111111111111...</td>\n",
              "      <td>6</td>\n",
              "      <td>534.0</td>\n",
              "      <td>22.0</td>\n",
              "    </tr>\n",
              "    <tr>\n",
              "      <th>4</th>\n",
              "      <td>1111111101010111111111111111111111111111111111...</td>\n",
              "      <td>6</td>\n",
              "      <td>458.0</td>\n",
              "      <td>23.0</td>\n",
              "    </tr>\n",
              "    <tr>\n",
              "      <th>...</th>\n",
              "      <td>...</td>\n",
              "      <td>...</td>\n",
              "      <td>...</td>\n",
              "      <td>...</td>\n",
              "    </tr>\n",
              "    <tr>\n",
              "      <th>220</th>\n",
              "      <td>1111110101010101010101010101010101010101111111...</td>\n",
              "      <td>34</td>\n",
              "      <td>451.0</td>\n",
              "      <td>114.0</td>\n",
              "    </tr>\n",
              "    <tr>\n",
              "      <th>221</th>\n",
              "      <td>1111111101010101010101010101010101010101011111...</td>\n",
              "      <td>34</td>\n",
              "      <td>454.0</td>\n",
              "      <td>114.0</td>\n",
              "    </tr>\n",
              "    <tr>\n",
              "      <th>222</th>\n",
              "      <td>1111111111010101010101010101010101010101010111...</td>\n",
              "      <td>34</td>\n",
              "      <td>452.0</td>\n",
              "      <td>116.0</td>\n",
              "    </tr>\n",
              "    <tr>\n",
              "      <th>223</th>\n",
              "      <td>1111111111110101010101010101010101010101010101...</td>\n",
              "      <td>34</td>\n",
              "      <td>513.0</td>\n",
              "      <td>115.0</td>\n",
              "    </tr>\n",
              "    <tr>\n",
              "      <th>224</th>\n",
              "      <td>1111111111111101010101010101010101010101010101...</td>\n",
              "      <td>34</td>\n",
              "      <td>450.0</td>\n",
              "      <td>116.0</td>\n",
              "    </tr>\n",
              "  </tbody>\n",
              "</table>\n",
              "<p>225 rows × 4 columns</p>\n",
              "</div>\n",
              "      <button class=\"colab-df-convert\" onclick=\"convertToInteractive('df-5b471a3e-3e70-41c5-ac24-21ad94efa74b')\"\n",
              "              title=\"Convert this dataframe to an interactive table.\"\n",
              "              style=\"display:none;\">\n",
              "        \n",
              "  <svg xmlns=\"http://www.w3.org/2000/svg\" height=\"24px\"viewBox=\"0 0 24 24\"\n",
              "       width=\"24px\">\n",
              "    <path d=\"M0 0h24v24H0V0z\" fill=\"none\"/>\n",
              "    <path d=\"M18.56 5.44l.94 2.06.94-2.06 2.06-.94-2.06-.94-.94-2.06-.94 2.06-2.06.94zm-11 1L8.5 8.5l.94-2.06 2.06-.94-2.06-.94L8.5 2.5l-.94 2.06-2.06.94zm10 10l.94 2.06.94-2.06 2.06-.94-2.06-.94-.94-2.06-.94 2.06-2.06.94z\"/><path d=\"M17.41 7.96l-1.37-1.37c-.4-.4-.92-.59-1.43-.59-.52 0-1.04.2-1.43.59L10.3 9.45l-7.72 7.72c-.78.78-.78 2.05 0 2.83L4 21.41c.39.39.9.59 1.41.59.51 0 1.02-.2 1.41-.59l7.78-7.78 2.81-2.81c.8-.78.8-2.07 0-2.86zM5.41 20L4 18.59l7.72-7.72 1.47 1.35L5.41 20z\"/>\n",
              "  </svg>\n",
              "      </button>\n",
              "      \n",
              "  <style>\n",
              "    .colab-df-container {\n",
              "      display:flex;\n",
              "      flex-wrap:wrap;\n",
              "      gap: 12px;\n",
              "    }\n",
              "\n",
              "    .colab-df-convert {\n",
              "      background-color: #E8F0FE;\n",
              "      border: none;\n",
              "      border-radius: 50%;\n",
              "      cursor: pointer;\n",
              "      display: none;\n",
              "      fill: #1967D2;\n",
              "      height: 32px;\n",
              "      padding: 0 0 0 0;\n",
              "      width: 32px;\n",
              "    }\n",
              "\n",
              "    .colab-df-convert:hover {\n",
              "      background-color: #E2EBFA;\n",
              "      box-shadow: 0px 1px 2px rgba(60, 64, 67, 0.3), 0px 1px 3px 1px rgba(60, 64, 67, 0.15);\n",
              "      fill: #174EA6;\n",
              "    }\n",
              "\n",
              "    [theme=dark] .colab-df-convert {\n",
              "      background-color: #3B4455;\n",
              "      fill: #D2E3FC;\n",
              "    }\n",
              "\n",
              "    [theme=dark] .colab-df-convert:hover {\n",
              "      background-color: #434B5C;\n",
              "      box-shadow: 0px 1px 3px 1px rgba(0, 0, 0, 0.15);\n",
              "      filter: drop-shadow(0px 1px 2px rgba(0, 0, 0, 0.3));\n",
              "      fill: #FFFFFF;\n",
              "    }\n",
              "  </style>\n",
              "\n",
              "      <script>\n",
              "        const buttonEl =\n",
              "          document.querySelector('#df-5b471a3e-3e70-41c5-ac24-21ad94efa74b button.colab-df-convert');\n",
              "        buttonEl.style.display =\n",
              "          google.colab.kernel.accessAllowed ? 'block' : 'none';\n",
              "\n",
              "        async function convertToInteractive(key) {\n",
              "          const element = document.querySelector('#df-5b471a3e-3e70-41c5-ac24-21ad94efa74b');\n",
              "          const dataTable =\n",
              "            await google.colab.kernel.invokeFunction('convertToInteractive',\n",
              "                                                     [key], {});\n",
              "          if (!dataTable) return;\n",
              "\n",
              "          const docLinkHtml = 'Like what you see? Visit the ' +\n",
              "            '<a target=\"_blank\" href=https://colab.research.google.com/notebooks/data_table.ipynb>data table notebook</a>'\n",
              "            + ' to learn more about interactive tables.';\n",
              "          element.innerHTML = '';\n",
              "          dataTable['output_type'] = 'display_data';\n",
              "          await google.colab.output.renderOutput(dataTable, element);\n",
              "          const docLink = document.createElement('div');\n",
              "          docLink.innerHTML = docLinkHtml;\n",
              "          element.appendChild(docLink);\n",
              "        }\n",
              "      </script>\n",
              "    </div>\n",
              "  </div>\n",
              "  "
            ]
          },
          "metadata": {},
          "execution_count": 7
        }
      ]
    },
    {
      "cell_type": "code",
      "source": [
        "x = dataset.iloc[:, 1:-1].values\n",
        "y = dataset.iloc[:, -1].values\n",
        "x_train, x_test, y_train, y_test = train_test_split(x, y, test_size = 0.3, random_state=1)"
      ],
      "metadata": {
        "id": "7w2rOQqzPsEv"
      },
      "execution_count": null,
      "outputs": []
    },
    {
      "cell_type": "code",
      "source": [
        "dataset1 = dataset.drop(labels = [\"VECTOR\"],axis=1)\n",
        "sb.heatmap(dataset1.corr(), cmap=\"YlGnBu\", annot=True)"
      ],
      "metadata": {
        "colab": {
          "base_uri": "https://localhost:8080/",
          "height": 286
        },
        "id": "eYGNTejQVMz8",
        "outputId": "3a5abd51-2f17-48ed-9480-2de8e5bff11e"
      },
      "execution_count": null,
      "outputs": [
        {
          "output_type": "execute_result",
          "data": {
            "text/plain": [
              "<matplotlib.axes._subplots.AxesSubplot at 0x7f5e952be510>"
            ]
          },
          "metadata": {},
          "execution_count": 9
        },
        {
          "output_type": "display_data",
          "data": {
            "text/plain": [
              "<Figure size 432x288 with 2 Axes>"
            ],
            "image/png": "[encoded data removed]"
          },
          "metadata": {
            "needs_background": "light"
          }
        }
      ]
    },
    {
      "cell_type": "code",
      "source": [
        "MSE_list = dict()"
      ],
      "metadata": {
        "id": "OFHC0f62OSO0"
      },
      "execution_count": null,
      "outputs": []
    },
    {
      "cell_type": "markdown",
      "source": [
        "Ridge regression"
      ],
      "metadata": {
        "id": "NIP8UcLUUQsA"
      }
    },
    {
      "cell_type": "code",
      "source": [
        "reg_ridge = Ridge(alpha = 1)\n",
        "reg_ridge.fit(x_train,y_train)\n",
        "y_pred_ridge = reg_ridge.predict(x_test)\n",
        "MSE_list[\"ridge regression\"] = MSE(y_pred_ridge,y_test)"
      ],
      "metadata": {
        "id": "jJTznGTHT8Cf"
      },
      "execution_count": null,
      "outputs": []
    },
    {
      "cell_type": "code",
      "source": [
        "print(MSE(y_pred_ridge,y_test))"
      ],
      "metadata": {
        "colab": {
          "base_uri": "https://localhost:8080/"
        },
        "id": "XFFDozLxUSjK",
        "outputId": "6ce1f584-262d-4190-99b6-b930b55a6343"
      },
      "execution_count": null,
      "outputs": [
        {
          "output_type": "stream",
          "name": "stdout",
          "text": [
            "35.527891743811495\n"
          ]
        }
      ]
    },
    {
      "cell_type": "code",
      "source": [
        "plt.plot(y_test,color=\"#0a9396\")\n",
        "plt.plot(y_pred_ridge,color=\"#f07167\")\n",
        "plt.show()"
      ],
      "metadata": {
        "colab": {
          "base_uri": "https://localhost:8080/",
          "height": 267
        },
        "id": "K-FT9W7CDegq",
        "outputId": "5d079b48-7981-4917-9a4d-5d641f942e73"
      },
      "execution_count": null,
      "outputs": [
        {
          "output_type": "display_data",
          "data": {
            "text/plain": [
              "<Figure size 432x288 with 1 Axes>"
            ],
            "image/png": "[encoded data removed]"
          },
          "metadata": {
            "needs_background": "light"
          }
        }
      ]
    },
    {
      "cell_type": "markdown",
      "source": [
        "Nearest neighbour regression"
      ],
      "metadata": {
        "id": "p1x-mSpNUdsY"
      }
    },
    {
      "cell_type": "code",
      "source": [
        "knn_reg = KNeighborsRegressor(n_neighbors=5)\n",
        "knn_reg.fit(x_train,y_train)\n",
        "y_pred_knn1 = knn_reg.predict(x_test)\n",
        "MSE_list[\"KNN\"] = MSE(y_pred_knn1,y_test)"
      ],
      "metadata": {
        "id": "CoJUwpoiUdGo"
      },
      "execution_count": null,
      "outputs": []
    },
    {
      "cell_type": "code",
      "source": [
        "print(MSE(y_pred_knn1,y_test))"
      ],
      "metadata": {
        "colab": {
          "base_uri": "https://localhost:8080/"
        },
        "id": "_H9Wa5oxUnlG",
        "outputId": "4ee08c81-ae3c-4527-cece-cd0bb161b70e"
      },
      "execution_count": null,
      "outputs": [
        {
          "output_type": "stream",
          "name": "stdout",
          "text": [
            "44.24764705882354\n"
          ]
        }
      ]
    },
    {
      "cell_type": "code",
      "source": [
        "MSE_KNN = list()\n",
        "for i in range(5,15):\n",
        "  knn_reg = KNeighborsRegressor(n_neighbors=i)\n",
        "  knn_reg.fit(x_train,y_train)\n",
        "  y_pred_knn = knn_reg.predict(x_test)\n",
        "  MSE_KNN.append(MSE(y_pred_knn,y_test))"
      ],
      "metadata": {
        "id": "vq37gXOl922o"
      },
      "execution_count": null,
      "outputs": []
    },
    {
      "cell_type": "code",
      "source": [
        "plt.plot(range(5,15),MSE_KNN)\n",
        "plt.show()"
      ],
      "metadata": {
        "colab": {
          "base_uri": "https://localhost:8080/",
          "height": 265
        },
        "id": "-Ga5UbWj-MrY",
        "outputId": "56b1f119-c599-4b31-9d1e-70d425de46c6"
      },
      "execution_count": null,
      "outputs": [
        {
          "output_type": "display_data",
          "data": {
            "text/plain": [
              "<Figure size 432x288 with 1 Axes>"
            ],
            "image/png": "[encoded data removed]"
          },
          "metadata": {
            "needs_background": "light"
          }
        }
      ]
    },
    {
      "cell_type": "code",
      "source": [
        "# INCREASING N_NEIGHBOURS increases MSE"
      ],
      "metadata": {
        "id": "MMuuWmZb-xLO"
      },
      "execution_count": null,
      "outputs": []
    },
    {
      "cell_type": "code",
      "source": [
        "plt.plot(y_test,color=\"#0a9396\")\n",
        "plt.plot(y_pred_knn1,color=\"#f07167\")\n",
        "plt.show()"
      ],
      "metadata": {
        "colab": {
          "base_uri": "https://localhost:8080/",
          "height": 268
        },
        "id": "aFuWFz0ZDjdv",
        "outputId": "bac67b72-a188-4201-bebf-152a9dbb884f"
      },
      "execution_count": null,
      "outputs": [
        {
          "output_type": "display_data",
          "data": {
            "text/plain": [
              "<Figure size 432x288 with 1 Axes>"
            ],
            "image/png": "[encoded data removed]"
          },
          "metadata": {
            "needs_background": "light"
          }
        }
      ]
    },
    {
      "cell_type": "markdown",
      "source": [
        "Decision tree regression"
      ],
      "metadata": {
        "id": "QLpovagOVFs4"
      }
    },
    {
      "cell_type": "code",
      "source": [
        "reg_dt = DecisionTreeRegressor(random_state=1)\n",
        "reg_dt.fit(x_train,y_train)\n",
        "y_pred_dt = reg_dt.predict(x_test)"
      ],
      "metadata": {
        "id": "mrX9bQhLU1OZ"
      },
      "execution_count": null,
      "outputs": []
    },
    {
      "cell_type": "code",
      "source": [
        "print(MSE(y_pred_dt,y_test))"
      ],
      "metadata": {
        "colab": {
          "base_uri": "https://localhost:8080/"
        },
        "id": "xp3FzlvFXH4A",
        "outputId": "c9f2727c-f542-443a-9071-befcab871d7d"
      },
      "execution_count": null,
      "outputs": [
        {
          "output_type": "stream",
          "name": "stdout",
          "text": [
            "1.7205882352941178\n"
          ]
        }
      ]
    },
    {
      "cell_type": "code",
      "source": [
        "plt.plot(y_test,color=\"#0a9396\")\n",
        "plt.plot(y_pred_dt,color=\"#f07167\")\n",
        "plt.show()"
      ],
      "metadata": {
        "colab": {
          "base_uri": "https://localhost:8080/",
          "height": 268
        },
        "id": "FEJD02h4D0pt",
        "outputId": "5ff1d8ae-b9f6-4e8e-83aa-2d17f33ab278"
      },
      "execution_count": null,
      "outputs": [
        {
          "output_type": "display_data",
          "data": {
            "text/plain": [
              "<Figure size 432x288 with 1 Axes>"
            ],
            "image/png": "[encoded data removed]"
          },
          "metadata": {
            "needs_background": "light"
          }
        }
      ]
    },
    {
      "cell_type": "code",
      "source": [
        "MSE_dt = list()\n",
        "for i in range(3,10):\n",
        "  reg_dt = DecisionTreeRegressor(random_state=1,max_depth=i)\n",
        "  reg_dt.fit(x_train,y_train)\n",
        "  y_pred_dt = reg_dt.predict(x_test)\n",
        "  MSE_dt.append(MSE(y_pred_dt,y_test))"
      ],
      "metadata": {
        "id": "cdZhMPs9AuLF"
      },
      "execution_count": null,
      "outputs": []
    },
    {
      "cell_type": "code",
      "source": [
        "plt.plot(range(3,10),MSE_dt)\n",
        "plt.show()"
      ],
      "metadata": {
        "colab": {
          "base_uri": "https://localhost:8080/",
          "height": 265
        },
        "id": "U8JSGxxOAuIw",
        "outputId": "50ef4409-b85e-42cc-ca66-16e771feebd3"
      },
      "execution_count": null,
      "outputs": [
        {
          "output_type": "display_data",
          "data": {
            "text/plain": [
              "<Figure size 432x288 with 1 Axes>"
            ],
            "image/png": "[encoded data removed]"
          },
          "metadata": {
            "needs_background": "light"
          }
        }
      ]
    },
    {
      "cell_type": "code",
      "source": [
        "# INCREASING DEPTH INCREASES MSE \n",
        "# GOOD TO HAVE LOWER DEPTH"
      ],
      "metadata": {
        "id": "ExaK23LlBVDu"
      },
      "execution_count": null,
      "outputs": []
    },
    {
      "cell_type": "code",
      "source": [
        "minimum = min(MSE_dt)"
      ],
      "metadata": {
        "id": "4_bPJmZ8V6np"
      },
      "execution_count": null,
      "outputs": []
    },
    {
      "cell_type": "code",
      "source": [
        "MSE_list[\"decision tree\"] = minimum"
      ],
      "metadata": {
        "id": "oRrY7V53PsOk"
      },
      "execution_count": null,
      "outputs": []
    },
    {
      "cell_type": "markdown",
      "source": [
        "Random forest regression"
      ],
      "metadata": {
        "id": "Gte9vae5VIzx"
      }
    },
    {
      "cell_type": "code",
      "source": [
        "rf_reg = RandomForestRegressor(max_depth = 5,random_state=0)\n",
        "rf_reg = rf_reg.fit(x_train,y_train)\n",
        "y_pred_rf1 = rf_reg.predict(x_test)"
      ],
      "metadata": {
        "id": "1OdkuayTVKdp"
      },
      "execution_count": null,
      "outputs": []
    },
    {
      "cell_type": "code",
      "source": [
        "print(MSE(y_pred_rf1,y_test))"
      ],
      "metadata": {
        "colab": {
          "base_uri": "https://localhost:8080/"
        },
        "id": "j7abH8AwXz0J",
        "outputId": "42a819a8-3fef-406b-a5d5-b70420dc4671"
      },
      "execution_count": null,
      "outputs": [
        {
          "output_type": "stream",
          "name": "stdout",
          "text": [
            "1.0709322433407087\n"
          ]
        }
      ]
    },
    {
      "cell_type": "code",
      "source": [
        "plt.plot(y_test,color=\"#0a9396\")\n",
        "plt.plot(y_pred_rf1,color=\"#f07167\")\n",
        "plt.show()"
      ],
      "metadata": {
        "colab": {
          "base_uri": "https://localhost:8080/",
          "height": 268
        },
        "id": "BaI96Y1DD53j",
        "outputId": "6a51401f-7249-4ddf-fa30-7b7b20ab16c4"
      },
      "execution_count": null,
      "outputs": [
        {
          "output_type": "display_data",
          "data": {
            "text/plain": [
              "<Figure size 432x288 with 1 Axes>"
            ],
            "image/png": "[encoded data removed]"
          },
          "metadata": {
            "needs_background": "light"
          }
        }
      ]
    },
    {
      "cell_type": "code",
      "source": [
        "MSE_rf = list()\n",
        "for i in range(3,10):\n",
        "  rf_reg = RandomForestRegressor(max_depth = i,random_state=0)\n",
        "  rf_reg = rf_reg.fit(x_train,y_train)\n",
        "  y_pred_rf = rf_reg.predict(x_test)\n",
        "  MSE_rf.append(MSE(y_pred_rf,y_test))"
      ],
      "metadata": {
        "id": "sqsJkn3WBent"
      },
      "execution_count": null,
      "outputs": []
    },
    {
      "cell_type": "code",
      "source": [
        "plt.plot(range(3,10),MSE_rf)\n",
        "plt.show()"
      ],
      "metadata": {
        "colab": {
          "base_uri": "https://localhost:8080/",
          "height": 265
        },
        "id": "Cj6-FrfHBrpk",
        "outputId": "052ef56c-4051-488e-9548-1f8bd77c1318"
      },
      "execution_count": null,
      "outputs": [
        {
          "output_type": "display_data",
          "data": {
            "text/plain": [
              "<Figure size 432x288 with 1 Axes>"
            ],
            "image/png": "[encoded data removed]"
          },
          "metadata": {
            "needs_background": "light"
          }
        }
      ]
    },
    {
      "cell_type": "code",
      "source": [
        "# INCREASING DEPTH INCREASES MSE \n",
        "# GOOD TO HAVE LOWER DEPTH"
      ],
      "metadata": {
        "id": "9ikSBx4FB5Ym"
      },
      "execution_count": null,
      "outputs": []
    },
    {
      "cell_type": "code",
      "source": [
        "MSE_list[\"random forest\"] = min(MSE_rf)"
      ],
      "metadata": {
        "id": "TIi2RNRrQulL"
      },
      "execution_count": null,
      "outputs": []
    },
    {
      "cell_type": "markdown",
      "source": [
        "Neural network regression"
      ],
      "metadata": {
        "id": "_lLLP0UOUxwA"
      }
    },
    {
      "cell_type": "code",
      "source": [
        "from sklearn.neural_network import MLPRegressor\n",
        "from sklearn.preprocessing import StandardScaler"
      ],
      "metadata": {
        "id": "IBXe8IrfCnc6"
      },
      "execution_count": null,
      "outputs": []
    },
    {
      "cell_type": "code",
      "source": [
        "ss=StandardScaler()\n",
        "x=ss.fit_transform(x) \n",
        "x_train, x_test, y_train, y_test = train_test_split(x, y, test_size = 0.3, random_state=1)"
      ],
      "metadata": {
        "id": "nd9s0NH7VW16"
      },
      "execution_count": null,
      "outputs": []
    },
    {
      "cell_type": "code",
      "source": [
        "import tensorflow as tf\n",
        "from tensorflow.keras import Model\n",
        "from tensorflow.keras import Sequential\n",
        "from tensorflow.keras.optimizers import Adam\n",
        "from sklearn.preprocessing import StandardScaler\n",
        "from tensorflow.keras.layers import Dense, Dropout\n",
        "from sklearn.model_selection import train_test_split\n",
        "from tensorflow.keras.losses import MeanSquaredLogarithmicError"
      ],
      "metadata": {
        "id": "f1EBe7buaRF8"
      },
      "execution_count": null,
      "outputs": []
    },
    {
      "cell_type": "code",
      "source": [
        "hidden_units1 = 160\n",
        "hidden_units2 = 480\n",
        "hidden_units3 = 256\n",
        "learning_rate = 0.01\n",
        "# Creating model using the Sequential in tensorflow\n",
        "def build_model_using_sequential():\n",
        "  model = Sequential([\n",
        "    Dense(hidden_units1, kernel_initializer='normal', activation='relu'),\n",
        "    Dropout(0.2),\n",
        "    Dense(hidden_units2, kernel_initializer='normal', activation='relu'),\n",
        "    Dropout(0.2),\n",
        "    Dense(hidden_units3, kernel_initializer='normal', activation='relu'),\n",
        "    Dense(1, kernel_initializer='normal', activation='linear')\n",
        "  ])\n",
        "  return model\n",
        "# build the model\n",
        "model = build_model_using_sequential()"
      ],
      "metadata": {
        "id": "EoinIHa5Z5FZ"
      },
      "execution_count": null,
      "outputs": []
    },
    {
      "cell_type": "code",
      "source": [
        "msle = MeanSquaredLogarithmicError()\n",
        "model.compile(\n",
        "    loss=msle, \n",
        "    optimizer=Adam(learning_rate=learning_rate), \n",
        "    metrics=[msle]\n",
        ")\n",
        "# train the model\n",
        "history = model.fit(\n",
        "    x_train, \n",
        "    y_train, \n",
        "    epochs=10, \n",
        "    batch_size=64,\n",
        "    validation_split=0.2\n",
        ")"
      ],
      "metadata": {
        "id": "gBetrLnkZ46S",
        "outputId": "c2c161d9-7550-4dfb-cba7-337cec55db21",
        "colab": {
          "base_uri": "https://localhost:8080/"
        }
      },
      "execution_count": null,
      "outputs": [
        {
          "output_type": "stream",
          "name": "stdout",
          "text": [
            "Epoch 1/10\n",
            "2/2 [==============================] - 1s 163ms/step - loss: 12.4540 - mean_squared_logarithmic_error: 12.3789 - val_loss: 4.7839 - val_mean_squared_logarithmic_error: 4.7839\n",
            "Epoch 2/10\n",
            "2/2 [==============================] - 0s 23ms/step - loss: 2.8535 - mean_squared_logarithmic_error: 2.8183 - val_loss: 0.3530 - val_mean_squared_logarithmic_error: 0.3530\n",
            "Epoch 3/10\n",
            "2/2 [==============================] - 0s 21ms/step - loss: 0.2646 - mean_squared_logarithmic_error: 0.2643 - val_loss: 0.5365 - val_mean_squared_logarithmic_error: 0.5365\n",
            "Epoch 4/10\n",
            "2/2 [==============================] - 0s 22ms/step - loss: 0.9148 - mean_squared_logarithmic_error: 0.9210 - val_loss: 1.3133 - val_mean_squared_logarithmic_error: 1.3133\n",
            "Epoch 5/10\n",
            "2/2 [==============================] - 0s 26ms/step - loss: 1.6509 - mean_squared_logarithmic_error: 1.6550 - val_loss: 1.5929 - val_mean_squared_logarithmic_error: 1.5929\n",
            "Epoch 6/10\n",
            "2/2 [==============================] - 0s 21ms/step - loss: 1.8203 - mean_squared_logarithmic_error: 1.8215 - val_loss: 1.3620 - val_mean_squared_logarithmic_error: 1.3620\n",
            "Epoch 7/10\n",
            "2/2 [==============================] - 0s 22ms/step - loss: 1.4805 - mean_squared_logarithmic_error: 1.4772 - val_loss: 0.8585 - val_mean_squared_logarithmic_error: 0.8585\n",
            "Epoch 8/10\n",
            "2/2 [==============================] - 0s 22ms/step - loss: 0.9105 - mean_squared_logarithmic_error: 0.9075 - val_loss: 0.3631 - val_mean_squared_logarithmic_error: 0.3631\n",
            "Epoch 9/10\n",
            "2/2 [==============================] - 0s 21ms/step - loss: 0.4093 - mean_squared_logarithmic_error: 0.4074 - val_loss: 0.1006 - val_mean_squared_logarithmic_error: 0.1006\n",
            "Epoch 10/10\n",
            "2/2 [==============================] - 0s 21ms/step - loss: 0.1660 - mean_squared_logarithmic_error: 0.1661 - val_loss: 0.1497 - val_mean_squared_logarithmic_error: 0.1497\n"
          ]
        }
      ]
    },
    {
      "cell_type": "code",
      "source": [
        "def plot_history(history, key):\n",
        "  plt.plot(history.history[key])\n",
        "  #plt.plot(history.history['val_'+key])\n",
        "  plt.xlabel(\"Epochs\")\n",
        "  plt.ylabel(key)\n",
        "  plt.legend([key])\n",
        "  plt.show()\n",
        "# Plot the history\n",
        "plot_history(history, 'mean_squared_logarithmic_error')"
      ],
      "metadata": {
        "id": "M51D2xK6Z_um",
        "outputId": "26c244c9-14e8-49a7-8100-8e3403b6ebad",
        "colab": {
          "base_uri": "https://localhost:8080/",
          "height": 279
        }
      },
      "execution_count": null,
      "outputs": [
        {
          "output_type": "display_data",
          "data": {
            "text/plain": [
              "<Figure size 432x288 with 1 Axes>"
            ],
            "image/png": "[encoded data removed]"
          },
          "metadata": {
            "needs_background": "light"
          }
        }
      ]
    },
    {
      "cell_type": "code",
      "source": [
        "reg = MLPRegressor(hidden_layer_sizes=(64,64,64),activation=\"relu\" ,random_state=1, max_iter=2000).fit(x_train, y_train)\n",
        "y_pred_nn=reg.predict(x_test)\n",
        "print(\"MSE for Neural Network Regressor: \",MSE(y_pred_nn, y_test))"
      ],
      "metadata": {
        "colab": {
          "base_uri": "https://localhost:8080/"
        },
        "id": "YhMeNJLNVTc0",
        "outputId": "66657a4e-74a1-40e4-cd95-f8a89b491dab"
      },
      "execution_count": null,
      "outputs": [
        {
          "output_type": "stream",
          "name": "stdout",
          "text": [
            "MSE for Neural Network Regressor:  0.8796303817055585\n"
          ]
        }
      ]
    },
    {
      "cell_type": "code",
      "source": [
        "MSE_list[\"neural network\"] = MSE(y_pred_nn,y_test)"
      ],
      "metadata": {
        "id": "3XCiBaJrQ1TD"
      },
      "execution_count": null,
      "outputs": []
    },
    {
      "cell_type": "code",
      "source": [
        "plt.plot(y_test,color=\"#0a9396\")\n",
        "plt.plot(y_pred_nn,color=\"#f07167\")\n",
        "plt.show()"
      ],
      "metadata": {
        "id": "bKW_TxwhVnSZ",
        "colab": {
          "base_uri": "https://localhost:8080/",
          "height": 268
        },
        "outputId": "1b012d50-2339-423e-e9da-1c821c177f96"
      },
      "execution_count": null,
      "outputs": [
        {
          "output_type": "display_data",
          "data": {
            "text/plain": [
              "<Figure size 432x288 with 1 Axes>"
            ],
            "image/png": "[encoded data removed]"
          },
          "metadata": {
            "needs_background": "light"
          }
        }
      ]
    },
    {
      "cell_type": "code",
      "source": [
        "mse = pd.DataFrame({\"Models\" : MSE_list.keys() , \"MSE\" : MSE_list.values()})\n",
        "mse"
      ],
      "metadata": {
        "id": "vUAl4_9-EBCw",
        "colab": {
          "base_uri": "https://localhost:8080/",
          "height": 206
        },
        "outputId": "e9fd1663-a157-4f62-d01e-e38fc51b4923"
      },
      "execution_count": null,
      "outputs": [
        {
          "output_type": "execute_result",
          "data": {
            "text/plain": [
              "             Models        MSE\n",
              "0  ridge regression  35.527892\n",
              "1               KNN  44.247647\n",
              "2     decision tree   1.092183\n",
              "3     random forest   1.070932\n",
              "4    neural network   0.879630"
            ],
            "text/html": [
              "\n",
              "  <div id=\"df-ce7650e9-322f-44b6-871e-6b3cbafe293f\">\n",
              "    <div class=\"colab-df-container\">\n",
              "      <div>\n",
              "<style scoped>\n",
              "    .dataframe tbody tr th:only-of-type {\n",
              "        vertical-align: middle;\n",
              "    }\n",
              "\n",
              "    .dataframe tbody tr th {\n",
              "        vertical-align: top;\n",
              "    }\n",
              "\n",
              "    .dataframe thead th {\n",
              "        text-align: right;\n",
              "    }\n",
              "</style>\n",
              "<table border=\"1\" class=\"dataframe\">\n",
              "  <thead>\n",
              "    <tr style=\"text-align: right;\">\n",
              "      <th></th>\n",
              "      <th>Models</th>\n",
              "      <th>MSE</th>\n",
              "    </tr>\n",
              "  </thead>\n",
              "  <tbody>\n",
              "    <tr>\n",
              "      <th>0</th>\n",
              "      <td>ridge regression</td>\n",
              "      <td>35.527892</td>\n",
              "    </tr>\n",
              "    <tr>\n",
              "      <th>1</th>\n",
              "      <td>KNN</td>\n",
              "      <td>44.247647</td>\n",
              "    </tr>\n",
              "    <tr>\n",
              "      <th>2</th>\n",
              "      <td>decision tree</td>\n",
              "      <td>1.092183</td>\n",
              "    </tr>\n",
              "    <tr>\n",
              "      <th>3</th>\n",
              "      <td>random forest</td>\n",
              "      <td>1.070932</td>\n",
              "    </tr>\n",
              "    <tr>\n",
              "      <th>4</th>\n",
              "      <td>neural network</td>\n",
              "      <td>0.879630</td>\n",
              "    </tr>\n",
              "  </tbody>\n",
              "</table>\n",
              "</div>\n",
              "      <button class=\"colab-df-convert\" onclick=\"convertToInteractive('df-ce7650e9-322f-44b6-871e-6b3cbafe293f')\"\n",
              "              title=\"Convert this dataframe to an interactive table.\"\n",
              "              style=\"display:none;\">\n",
              "        \n",
              "  <svg xmlns=\"http://www.w3.org/2000/svg\" height=\"24px\"viewBox=\"0 0 24 24\"\n",
              "       width=\"24px\">\n",
              "    <path d=\"M0 0h24v24H0V0z\" fill=\"none\"/>\n",
              "    <path d=\"M18.56 5.44l.94 2.06.94-2.06 2.06-.94-2.06-.94-.94-2.06-.94 2.06-2.06.94zm-11 1L8.5 8.5l.94-2.06 2.06-.94-2.06-.94L8.5 2.5l-.94 2.06-2.06.94zm10 10l.94 2.06.94-2.06 2.06-.94-2.06-.94-.94-2.06-.94 2.06-2.06.94z\"/><path d=\"M17.41 7.96l-1.37-1.37c-.4-.4-.92-.59-1.43-.59-.52 0-1.04.2-1.43.59L10.3 9.45l-7.72 7.72c-.78.78-.78 2.05 0 2.83L4 21.41c.39.39.9.59 1.41.59.51 0 1.02-.2 1.41-.59l7.78-7.78 2.81-2.81c.8-.78.8-2.07 0-2.86zM5.41 20L4 18.59l7.72-7.72 1.47 1.35L5.41 20z\"/>\n",
              "  </svg>\n",
              "      </button>\n",
              "      \n",
              "  <style>\n",
              "    .colab-df-container {\n",
              "      display:flex;\n",
              "      flex-wrap:wrap;\n",
              "      gap: 12px;\n",
              "    }\n",
              "\n",
              "    .colab-df-convert {\n",
              "      background-color: #E8F0FE;\n",
              "      border: none;\n",
              "      border-radius: 50%;\n",
              "      cursor: pointer;\n",
              "      display: none;\n",
              "      fill: #1967D2;\n",
              "      height: 32px;\n",
              "      padding: 0 0 0 0;\n",
              "      width: 32px;\n",
              "    }\n",
              "\n",
              "    .colab-df-convert:hover {\n",
              "      background-color: #E2EBFA;\n",
              "      box-shadow: 0px 1px 2px rgba(60, 64, 67, 0.3), 0px 1px 3px 1px rgba(60, 64, 67, 0.15);\n",
              "      fill: #174EA6;\n",
              "    }\n",
              "\n",
              "    [theme=dark] .colab-df-convert {\n",
              "      background-color: #3B4455;\n",
              "      fill: #D2E3FC;\n",
              "    }\n",
              "\n",
              "    [theme=dark] .colab-df-convert:hover {\n",
              "      background-color: #434B5C;\n",
              "      box-shadow: 0px 1px 3px 1px rgba(0, 0, 0, 0.15);\n",
              "      filter: drop-shadow(0px 1px 2px rgba(0, 0, 0, 0.3));\n",
              "      fill: #FFFFFF;\n",
              "    }\n",
              "  </style>\n",
              "\n",
              "      <script>\n",
              "        const buttonEl =\n",
              "          document.querySelector('#df-ce7650e9-322f-44b6-871e-6b3cbafe293f button.colab-df-convert');\n",
              "        buttonEl.style.display =\n",
              "          google.colab.kernel.accessAllowed ? 'block' : 'none';\n",
              "\n",
              "        async function convertToInteractive(key) {\n",
              "          const element = document.querySelector('#df-ce7650e9-322f-44b6-871e-6b3cbafe293f');\n",
              "          const dataTable =\n",
              "            await google.colab.kernel.invokeFunction('convertToInteractive',\n",
              "                                                     [key], {});\n",
              "          if (!dataTable) return;\n",
              "\n",
              "          const docLinkHtml = 'Like what you see? Visit the ' +\n",
              "            '<a target=\"_blank\" href=https://colab.research.google.com/notebooks/data_table.ipynb>data table notebook</a>'\n",
              "            + ' to learn more about interactive tables.';\n",
              "          element.innerHTML = '';\n",
              "          dataTable['output_type'] = 'display_data';\n",
              "          await google.colab.output.renderOutput(dataTable, element);\n",
              "          const docLink = document.createElement('div');\n",
              "          docLink.innerHTML = docLinkHtml;\n",
              "          element.appendChild(docLink);\n",
              "        }\n",
              "      </script>\n",
              "    </div>\n",
              "  </div>\n",
              "  "
            ]
          },
          "metadata": {},
          "execution_count": 44
        }
      ]
    },
    {
      "cell_type": "code",
      "source": [
        ""
      ],
      "metadata": {
        "id": "KPpqAQ9SPbVV"
      },
      "execution_count": null,
      "outputs": []
    }
  ]
}